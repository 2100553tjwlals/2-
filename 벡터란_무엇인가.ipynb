{
  "nbformat": 4,
  "nbformat_minor": 0,
  "metadata": {
    "colab": {
      "name": "벡터란 무엇인가.ipynb",
      "provenance": [],
      "authorship_tag": "ABX9TyPXMN3Cw2P9mM0EPxjx5ez9",
      "include_colab_link": true
    },
    "kernelspec": {
      "name": "python3",
      "display_name": "Python 3"
    },
    "language_info": {
      "name": "python"
    }
  },
  "cells": [
    {
      "cell_type": "markdown",
      "metadata": {
        "id": "view-in-github",
        "colab_type": "text"
      },
      "source": [
        "<a href=\"https://colab.research.google.com/github/2100553tjwlals/2-/blob/main/%EB%B2%A1%ED%84%B0%EB%9E%80_%EB%AC%B4%EC%97%87%EC%9D%B8%EA%B0%80.ipynb\" target=\"_parent\"><img src=\"https://colab.research.google.com/assets/colab-badge.svg\" alt=\"Open In Colab\"/></a>"
      ]
    },
    {
      "cell_type": "markdown",
      "metadata": {
        "id": "vCOObt9pq94b"
      },
      "source": [
        "벡터는 방향과 크기를가진 힘이다."
      ]
    }
  ]
}