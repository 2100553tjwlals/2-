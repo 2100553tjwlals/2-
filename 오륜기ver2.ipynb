{
  "nbformat": 4,
  "nbformat_minor": 0,
  "metadata": {
    "colab": {
      "name": "오륜기.ipynb",
      "provenance": [],
      "authorship_tag": "ABX9TyNn0ESF/wFxlWQV/BH7KrGV",
      "include_colab_link": true
    },
    "kernelspec": {
      "name": "python3",
      "display_name": "Python 3"
    },
    "language_info": {
      "name": "python"
    }
  },
  "cells": [
    {
      "cell_type": "markdown",
      "metadata": {
        "id": "view-in-github",
        "colab_type": "text"
      },
      "source": [
        "<a href=\"https://colab.research.google.com/github/2100553tjwlals/2-/blob/main/%EC%98%A4%EB%A5%9C%EA%B8%B0ver2.ipynb\" target=\"_parent\"><img src=\"https://colab.research.google.com/assets/colab-badge.svg\" alt=\"Open In Colab\"/></a>"
      ]
    },
    {
      "cell_type": "code",
      "metadata": {
        "id": "pVDiEXup-aX0"
      },
      "source": [
        "import turtle as t\n",
        "t.shape(\"turtle\")\n",
        "t.width(15)\n",
        "t.color(\"blue\")\n",
        "t.circle(87)\n",
        "t.up()\n",
        "t.goto(207,0)\n",
        "t.down()\n",
        "t.color(\"black\")\n",
        "t.circle(87)\n",
        "t.up()\n",
        "t.goto(414,0)\n",
        "t.down()\n",
        "t.color(\"red\")\n",
        "t.circle(87)\n",
        "t.up()\n",
        "t.goto(103.5,-87)\n",
        "t.down()\n",
        "t.color(\"yellow\")\n",
        "t.circle(87)\n",
        "t.up()\n",
        "t.goto(310.5,-87)\n",
        "t.down()\n",
        "t.color(\"green\")\n",
        "t.circle(87)\n",
        "t.lt(270)\n",
        "t.up()\n",
        "t.goto(86,90)\n",
        "t.down()\n",
        "t.color(\"blue\")\n",
        "t.fd(15)\n",
        "t.up()\n",
        "t.goto(293,90)\n",
        "t.down()\n",
        "t.color(\"black\")\n",
        "t.fd(15)\n",
        "t.lt(90)\n",
        "t.up()\n",
        "t.goto(183,3)\n",
        "t.down()\n",
        "t.color(\"black\")\n",
        "t.fd(3)\n",
        "t.up()\n",
        "t.goto(187,2)\n",
        "t.down()\n",
        "t.color(\"black\")\n",
        "t.fd(8)\n",
        "t.up()\n",
        "t.goto(390,3)\n",
        "t.down()\n",
        "t.color(\"red\")\n",
        "t.fd(3)\n",
        "t.up()\n",
        "t.goto(394,2)\n",
        "t.down()\n",
        "t.color(\"red\")\n",
        "t.fd(8)"
      ],
      "execution_count": null,
      "outputs": []
    }
  ]
}