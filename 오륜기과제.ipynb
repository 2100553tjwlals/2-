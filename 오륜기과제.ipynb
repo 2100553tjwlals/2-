{
  "nbformat": 4,
  "nbformat_minor": 0,
  "metadata": {
    "colab": {
      "name": "오륜기.ipynb",
      "provenance": [],
      "authorship_tag": "ABX9TyP3nbhrPOkUbBkIDb5atYcT",
      "include_colab_link": true
    },
    "kernelspec": {
      "name": "python3",
      "display_name": "Python 3"
    },
    "language_info": {
      "name": "python"
    }
  },
  "cells": [
    {
      "cell_type": "markdown",
      "metadata": {
        "id": "view-in-github",
        "colab_type": "text"
      },
      "source": [
        "<a href=\"https://colab.research.google.com/github/2100553tjwlals/2-/blob/main/%EC%98%A4%EB%A5%9C%EA%B8%B0%EA%B3%BC%EC%A0%9C.ipynb\" target=\"_parent\"><img src=\"https://colab.research.google.com/assets/colab-badge.svg\" alt=\"Open In Colab\"/></a>"
      ]
    },
    {
      "cell_type": "code",
      "metadata": {
        "id": "pVDiEXup-aX0"
      },
      "source": [
        "import turtle as t\n",
        "t.shape(\"turtle\")\n",
        "t.width(5)\n",
        "t.color(\"blue\")\n",
        "t.circle(50)\n",
        "t.up()\n",
        "t.goto(120,0)\n",
        "t.down()\n",
        "t.color(\"black\")\n",
        "t.circle(50)\n",
        "t.up()\n",
        "t.goto(240,0)\n",
        "t.down()\n",
        "t.color(\"red\")\n",
        "t.circle(50)\n",
        "t.up()\n",
        "t.goto(60,-50)\n",
        "t.down()\n",
        "t.color(\"yellow\")\n",
        "t.circle(50)\n",
        "t.up()\n",
        "t.goto(180,-50)\n",
        "t.down()\n",
        "t.color(\"green\")\n",
        "t.circle(50)"
      ],
      "execution_count": null,
      "outputs": []
    }
  ]
}