{
  "nbformat": 4,
  "nbformat_minor": 0,
  "metadata": {
    "colab": {
      "name": "점수측정과제.ipynb",
      "provenance": [],
      "authorship_tag": "ABX9TyN/75YmD5GUIcApDLlZSTPf",
      "include_colab_link": true
    },
    "kernelspec": {
      "name": "python3",
      "display_name": "Python 3"
    },
    "language_info": {
      "name": "python"
    }
  },
  "cells": [
    {
      "cell_type": "markdown",
      "metadata": {
        "id": "view-in-github",
        "colab_type": "text"
      },
      "source": [
        "<a href=\"https://colab.research.google.com/github/2100553tjwlals/2-/blob/main/%EC%A0%90%EC%88%98%EC%B8%A1%EC%A0%95%EA%B3%BC%EC%A0%9C.ipynb\" target=\"_parent\"><img src=\"https://colab.research.google.com/assets/colab-badge.svg\" alt=\"Open In Colab\"/></a>"
      ]
    },
    {
      "cell_type": "markdown",
      "metadata": {
        "id": "NfZw3IFOX1rO"
      },
      "source": [
        "점수 판별"
      ]
    },
    {
      "cell_type": "code",
      "metadata": {
        "colab": {
          "base_uri": "https://localhost:8080/"
        },
        "id": "X3Tqy7sEX05t",
        "outputId": "bf78fd7d-c6f6-4e90-b88c-ddfca18b64c5"
      },
      "source": [
        "score = int(input(\"점수를 입력하시오\"))\n",
        "\n",
        "if score >=90:\n",
        "  print(\"A 입니다.\")\n",
        "elif 90>=score>=80:\n",
        "  print(\"B 입니다.\")  \n",
        "elif 80>=score>=70:\n",
        "  print(\"C 입니다.\")\n",
        "else : print(\"F 입니다.\")"
      ],
      "execution_count": 3,
      "outputs": [
        {
          "output_type": "stream",
          "name": "stdout",
          "text": [
            "점수를 입력하시오100\n",
            "A 입니다.\n"
          ]
        }
      ]
    }
  ]
}