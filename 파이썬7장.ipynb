{
  "nbformat": 4,
  "nbformat_minor": 0,
  "metadata": {
    "colab": {
      "name": "파이썬7장.ipynb",
      "provenance": [],
      "collapsed_sections": [],
      "authorship_tag": "ABX9TyO+Uz0j1a+u9YV8HNuXRH0F",
      "include_colab_link": true
    },
    "kernelspec": {
      "name": "python3",
      "display_name": "Python 3"
    },
    "language_info": {
      "name": "python"
    }
  },
  "cells": [
    {
      "cell_type": "markdown",
      "metadata": {
        "id": "view-in-github",
        "colab_type": "text"
      },
      "source": [
        "<a href=\"https://colab.research.google.com/github/tjwl0418/2-/blob/main/%ED%8C%8C%EC%9D%B4%EC%8D%AC7%EC%9E%A5.ipynb\" target=\"_parent\"><img src=\"https://colab.research.google.com/assets/colab-badge.svg\" alt=\"Open In Colab\"/></a>"
      ]
    },
    {
      "cell_type": "markdown",
      "metadata": {
        "id": "8U4JgD6tlSr3"
      },
      "source": [
        "도전문제"
      ]
    },
    {
      "cell_type": "code",
      "metadata": {
        "id": "6x6NCSK8lPi2"
      },
      "source": [
        "import turtle as t   #육각형\n",
        "t.shape(\"turtle\")\n",
        "\n",
        "def hexagon(length):  #length를 매개변수로 받는 함수\n",
        "    for i in range(6):  #6번 반복\n",
        "        t.fd(length) #앞으로 length만큼\n",
        "        t.lt(60) #왼쪽으로 60만큼 돈다\n",
        "        \n",
        "hexagon(100) #인수가 100인 함수를 호출"
      ],
      "execution_count": null,
      "outputs": []
    },
    {
      "cell_type": "code",
      "metadata": {
        "id": "qsaZKrY8oVLL"
      },
      "source": [
        "import turtle as t #n각형\n",
        "t.shape(\"turtle\")\n",
        "\n",
        "def hexagon(length,angle):   #length와 angle을 매개변수로 받는 함수\n",
        "    for i in range(angle):  #angle번 만큼 반복\n",
        "        t.fd(length)   #length만큼 앞으로\n",
        "        t.lt(360/angle)  #왼쪽으로 360/angle 만큼 돈다\n",
        "        \n",
        "hexagon(100,10)   #인수가 100, 10 인 함수를 호출 "
      ],
      "execution_count": null,
      "outputs": []
    },
    {
      "cell_type": "markdown",
      "metadata": {
        "id": "0WXY9dmy60FM"
      },
      "source": [
        "연습문제"
      ]
    },
    {
      "cell_type": "code",
      "metadata": {
        "id": "BSji5OcHvCkw"
      },
      "source": [
        "import turtle as t #1번문제\n",
        "t.shape(\"turtle\")\n",
        "\n",
        "s=t.Screen()\n",
        "s.bgcolor(\"skyblue\")\n",
        "\n",
        "def draw_snowman(x,y):\n",
        "    t.up()\n",
        "    t.goto(x,y)\n",
        "    t.down()\n",
        "    t.fillcolor('white')\n",
        "    t.begin_fill()\n",
        "    t.circle(30)\n",
        "    t.end_fill()\n",
        "    t.up()\n",
        "    t.rt(90)\n",
        "    t.fd(40)\n",
        "    t.lt(90)\n",
        "    t.down()\n",
        "    t.lt(30)\n",
        "    t.fd(80)\n",
        "    t.fd(-80)\n",
        "    t.lt(100)\n",
        "    t.fd(80)\n",
        "    t.fd(-80)\n",
        "    t.rt(130)\n",
        "    t.begin_fill()\n",
        "    t.circle(23)\n",
        "    t.end_fill()\n",
        "    t.up()\n",
        "    t.rt(90)\n",
        "    t.fd(80)\n",
        "    t.lt(90)\n",
        "    t.down()\n",
        "    t.begin_fill()\n",
        "    t.circle(50)\n",
        "    t.end_fill()\n",
        "    \n",
        "    \n",
        "draw_snowman(-150,0)\n",
        "draw_snowman(0,0)\n",
        "draw_snowman(150,0)"
      ],
      "execution_count": null,
      "outputs": []
    },
    {
      "cell_type": "code",
      "metadata": {
        "id": "cxDrFKMNED2Y"
      },
      "source": [
        "import turtle as t #2번문제\n",
        "t.shape(\"turtle\")\n",
        "\n",
        "def hexagon():\n",
        "    for i in range(6):\n",
        "        t.fd(100)\n",
        "        t.lt(60)\n",
        "for i in range(6):\n",
        "    t.fd(100)\n",
        "    t.rt(60)\n",
        "    hexagon()"
      ],
      "execution_count": null,
      "outputs": []
    },
    {
      "cell_type": "code",
      "metadata": {
        "id": "kOCXPJroHdF1"
      },
      "source": [
        "import turtle as t  #3번문제\n",
        "t.shape('turtle')\n",
        "\n",
        "t.fd(300)\n",
        "t.fd(-300)\n",
        "t.lt(90)\n",
        "t.fd(300)\n",
        "t.fd(-300)\n",
        "t.rt(90)\n",
        "\n",
        "def fx():\n",
        "    for x in range(150):\n",
        "        t.goto(x,(x**2+1)*0.01)\n",
        "fx()"
      ],
      "execution_count": null,
      "outputs": []
    },
    {
      "cell_type": "code",
      "metadata": {
        "id": "E-GqmhEPJCuq"
      },
      "source": [
        "import turtle as t   #4번문제\n",
        "t.shape(\"turtle\")\n",
        "\n",
        "def draw_line():\n",
        "    t.fd(100)\n",
        "    t.fd(-100)\n",
        "for i in range(12):\n",
        "    draw_line()\n",
        "    t.rt(30)"
      ],
      "execution_count": null,
      "outputs": []
    },
    {
      "cell_type": "code",
      "metadata": {
        "colab": {
          "base_uri": "https://localhost:8080/"
        },
        "id": "bYEx1LXWKI7s",
        "outputId": "74408a4e-b771-4d33-e093-036e179f0bdb"
      },
      "source": [
        "def happyBirthday(name):  #5번문제\n",
        "  print(\"Happy Birthday to you!\")\n",
        "  print(\"Happy Birthday to you!\")\n",
        "  print(\"Happy Birthday, dear\",name)\n",
        "  print(\"Happy Birthday to you!\")\n",
        "happyBirthday('홍길동')"
      ],
      "execution_count": 3,
      "outputs": [
        {
          "output_type": "stream",
          "name": "stdout",
          "text": [
            "Happy Birthday to you!\n",
            "Happy Birthday to you!\n",
            "Happy Birthday, dear 홍길동\n",
            "Happy Birthday to you!\n"
          ]
        }
      ]
    },
    {
      "cell_type": "code",
      "metadata": {
        "colab": {
          "base_uri": "https://localhost:8080/"
        },
        "id": "cvODoHEeKwRq",
        "outputId": "52d8a9b2-ef80-4790-8834-9eb43aba14ea"
      },
      "source": [
        "def math():  #6번문제\n",
        "  x = int(input(\"첫 번째 정수:\"))\n",
        "  y = int(input(\"두 번째 정수:\"))\n",
        "  print(\"정수\",x,\"+\",y,\"의 합은?\")\n",
        "math()"
      ],
      "execution_count": 5,
      "outputs": [
        {
          "output_type": "stream",
          "name": "stdout",
          "text": [
            "첫 번째 정수:10\n",
            "두 번째 정수:20\n",
            "정수 10 + 20 의 합은?\n"
          ]
        }
      ]
    },
    {
      "cell_type": "code",
      "metadata": {
        "colab": {
          "base_uri": "https://localhost:8080/"
        },
        "id": "ceuEPhnDMCJB",
        "outputId": "2b0fc9d8-9d39-4aab-ed88-9d13f766ba46"
      },
      "source": [
        "PI = 3.14  #7번문제\n",
        "def circleArea(radius):\n",
        "  area = PI*(radius**2)\n",
        "  return area\n",
        "def circleCircumference(radius):\n",
        "  circumference = 2*PI*radius\n",
        "  return circumference\n",
        "\n",
        "print(\"반지름이 5인 원의 면적:\", circleArea(5))\n",
        "print(\"반지름이 5인 원의 둘레:\", circleCircumference(5))"
      ],
      "execution_count": 9,
      "outputs": [
        {
          "output_type": "stream",
          "name": "stdout",
          "text": [
            "반지름이 5인 원의 면적: 78.5\n",
            "반지름이 5인 원의 둘레: 31.400000000000002\n"
          ]
        }
      ]
    },
    {
      "cell_type": "code",
      "metadata": {
        "colab": {
          "base_uri": "https://localhost:8080/"
        },
        "id": "z4tuYS9IOg7-",
        "outputId": "c7369d9b-75ed-491b-e5f2-109840ab6ee6"
      },
      "source": [
        "def p(x,y):\n",
        "  print(\"(\",x,\"+\",y,\")=\",x+y)\n",
        "def s(x,y):\n",
        "  print(\"(\",x,\"-\",y,\")=\",x-y)\n",
        "def m(x,y):\n",
        "  print(\"(\",x,\"/\",y,\")=\",x/y)\n",
        "def d(x,y):\n",
        "  print(\"(\",x,\"*\",y,\")=\",x*y)\n",
        "p(20,10)\n",
        "s(20,10)\n",
        "m(20,10)\n",
        "d(20,10)"
      ],
      "execution_count": 13,
      "outputs": [
        {
          "output_type": "stream",
          "name": "stdout",
          "text": [
            "( 20 + 10 )= 30\n",
            "( 20 - 10 )= 10\n",
            "( 20 / 10 )= 2.0\n",
            "( 20 * 10 )= 200\n"
          ]
        }
      ]
    }
  ]
}