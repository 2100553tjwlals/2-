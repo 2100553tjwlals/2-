{
  "nbformat": 4,
  "nbformat_minor": 0,
  "metadata": {
    "colab": {
      "name": "파이썬과제10장.ipynb",
      "provenance": [],
      "collapsed_sections": [],
      "authorship_tag": "ABX9TyOLjfh0tLMyoam99fbrnWO2",
      "include_colab_link": true
    },
    "kernelspec": {
      "name": "python3",
      "display_name": "Python 3"
    },
    "language_info": {
      "name": "python"
    }
  },
  "cells": [
    {
      "cell_type": "markdown",
      "metadata": {
        "id": "view-in-github",
        "colab_type": "text"
      },
      "source": [
        "<a href=\"https://colab.research.google.com/github/tjwl0418/2-/blob/main/%ED%8C%8C%EC%9D%B4%EC%8D%AC%EA%B3%BC%EC%A0%9C10%EC%9E%A5.ipynb\" target=\"_parent\"><img src=\"https://colab.research.google.com/assets/colab-badge.svg\" alt=\"Open In Colab\"/></a>"
      ]
    },
    {
      "cell_type": "markdown",
      "source": [
        "연습문제"
      ],
      "metadata": {
        "id": "Lb_l3CuzuOV5"
      }
    },
    {
      "cell_type": "code",
      "source": [
        "from tkinter import *   #1번문제\n",
        "window = Tk()\n",
        "\n",
        "l = Label(window, text = \"간단한 GUI 프로그램!\")\n",
        "b1 = Button(window, text= \"환영합니다\")\n",
        "b2 = Button(window, text= \"종료\")\n",
        "l.pack()\n",
        "b1.pack()\n",
        "b2.pack()\n",
        "\n",
        "window.mainloop()\n",
        "\n"
      ],
      "metadata": {
        "id": "wf-dhXAZuNXx"
      },
      "execution_count": null,
      "outputs": []
    },
    {
      "cell_type": "code",
      "source": [
        "from tkinter import *   #2번문제\n",
        "window = Tk()\n",
        "total = 0\n",
        "def plus():\n",
        "      global total\n",
        "      x = e.get()\n",
        "      total = total + int(x)\n",
        "      l2[\"text\"] = str(total)\n",
        "\n",
        "def minus():\n",
        "      global total\n",
        "      x = e.get()\n",
        "      total = total - int(x)\n",
        "      l2[\"text\"] = str(total)\n",
        "def reset():\n",
        "      global total\n",
        "      total = 0\n",
        "      l2[\"text\"] = str(total)\n",
        "          \n",
        "l1 = Label(window, text = \"현재 합계:\")\n",
        "l2 = Label(window, text = total)\n",
        "e = Entry(window)\n",
        "b1 = Button(window, text= \"더하기(+)\", command = plus)\n",
        "b2 = Button(window, text= \"빼기(-)\",command = minus)\n",
        "b3 = Button(window, text= \"초기화\",command = reset)\n",
        "l1.grid(row= 0, column=0)\n",
        "l2.grid(row= 0, column=1)\n",
        "e.grid(row= 1,column=0, columnspan=3)\n",
        "b1.grid(row=2,column=0)\n",
        "b2.grid(row=2,column=1)\n",
        "b3.grid(row=2,column=2)\n",
        "window.mainloop()"
      ],
      "metadata": {
        "id": "gybUCttLuRGT"
      },
      "execution_count": null,
      "outputs": []
    },
    {
      "cell_type": "code",
      "source": [
        "from tkinter import *  #3번문제\n",
        "import random\n",
        "window = Tk()\n",
        "\n",
        "def game():\n",
        "  x = random.randint(0, 100)\n",
        "  y = int(input())\n",
        "  if x > y :\n",
        "    print(\"높아요\")\n",
        "  elif x < y :\n",
        "    print(\"낮아요\")\n",
        "  else x == y :\n",
        "    print(\"정답입니다\")\n",
        "\n",
        "l = Label(window)\n",
        "\n",
        "\n",
        "window.mainloop()"
      ],
      "metadata": {
        "id": "KHvTo1jz80dO"
      },
      "execution_count": null,
      "outputs": []
    },
    {
      "cell_type": "code",
      "source": [
        "from tkinter import *   #4번문제\n",
        "import random\n",
        "window = Tk()\n",
        "x = random.randint(0, 100)\n",
        "def game():\n",
        "    y = int(e.get())\n",
        "    if x > y :\n",
        "      l[\"text\"]= \"낮아요\",\n",
        "    elif x < y :\n",
        "      l[\"text\"]= \"높아요\"\n",
        "    elif x == y :\n",
        "      l[\"text\"]= \"정답입니다\"\n",
        "def d():\n",
        "    l[\"text\"]= x\n",
        "def reset():    \n",
        "    global x\n",
        "    x = random.randint(0, 100)\n",
        "    l[\"text\"]= \"\"\n",
        "l = Label(window, text = \"숫자를 입력하세요\")\n",
        "l.grid(row = 0 , column = 0, columnspan = 2)\n",
        "e = Entry(window)\n",
        "e.grid(row = 1 , column = 0, columnspan = 2)\n",
        "b1 = Button(window, text = \"숫자를 입력\", command = game )\n",
        "b2 = Button(window, text = \"게임을 다시 실행\" , command = reset)\n",
        "b3 = Button(window, text = \"정답\" , command = d)\n",
        "b1.grid(row = 2 , column = 0)\n",
        "b2.grid(row = 2 , column = 1)\n",
        "b3.grid(row = 2 , column = 2)\n",
        "window.mainloop()"
      ],
      "metadata": {
        "id": "jsS5yjIL0nMP"
      },
      "execution_count": null,
      "outputs": []
    },
    {
      "cell_type": "code",
      "source": [
        "from tkinter import *  #5번문제\n",
        "window = Tk() \n",
        "def change():\n",
        "    inch = int(e.get())\n",
        "    cm = inch *2.54\n",
        "    l4[\"text\"]= cm,\"cm\"\n",
        "l = Label(window, text = \"inch를 cm로 변환\")\n",
        "l2 = Label(window, text = \"inch를입력\")\n",
        "l.grid(row = 0 , column = 0, columnspan = 2)\n",
        "l2.grid(row = 1 , column = 0,)\n",
        "e = Entry(window)\n",
        "e.grid(row = 1 , column = 1 )\n",
        "l3 = Label(window, text = \"변환 결과\", )\n",
        "l4 = Label(window,)\n",
        "b = Button(window, text = \"변환\" , command = change)\n",
        "l3.grid(row = 2 , column = 0)\n",
        "l4.grid(row = 2 , column = 1)\n",
        "b.grid(row = 3 , column = 1)  \n",
        "\n",
        "window.mainloop()\n",
        "\n"
      ],
      "metadata": {
        "id": "Chsn1cg9268-"
      },
      "execution_count": null,
      "outputs": []
    }
  ]
}