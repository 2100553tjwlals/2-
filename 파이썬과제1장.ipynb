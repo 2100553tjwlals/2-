{
  "nbformat": 4,
  "nbformat_minor": 0,
  "metadata": {
    "colab": {
      "name": "파이썬과제1장.ipynb",
      "provenance": [],
      "authorship_tag": "ABX9TyN7D2YE43fGk7w997g0dJL+",
      "include_colab_link": true
    },
    "kernelspec": {
      "name": "python3",
      "display_name": "Python 3"
    },
    "language_info": {
      "name": "python"
    }
  },
  "cells": [
    {
      "cell_type": "markdown",
      "metadata": {
        "id": "view-in-github",
        "colab_type": "text"
      },
      "source": [
        "<a href=\"https://colab.research.google.com/github/2100553tjwlals/2-/blob/main/%ED%8C%8C%EC%9D%B4%EC%8D%AC%EA%B3%BC%EC%A0%9C1%EC%9E%A5.ipynb\" target=\"_parent\"><img src=\"https://colab.research.google.com/assets/colab-badge.svg\" alt=\"Open In Colab\"/></a>"
      ]
    },
    {
      "cell_type": "markdown",
      "metadata": {
        "id": "3_eDrYpPknsQ"
      },
      "source": [
        "도전문제"
      ]
    },
    {
      "cell_type": "code",
      "metadata": {
        "id": "1ccf-p7-qFZU",
        "colab": {
          "base_uri": "https://localhost:8080/"
        },
        "outputId": "a33faad3-558b-4c71-88db-d2fd8f7721b7"
      },
      "source": [
        "print(\"안녕하세요\")"
      ],
      "execution_count": null,
      "outputs": [
        {
          "output_type": "stream",
          "name": "stdout",
          "text": [
            "안녕하세요\n"
          ]
        }
      ]
    },
    {
      "cell_type": "code",
      "metadata": {
        "colab": {
          "base_uri": "https://localhost:8080/"
        },
        "id": "ZWlNubOrtY_m",
        "outputId": "1368342d-c961-4a7c-f448-f2a97257169e"
      },
      "source": [
        "print(3.141592*10.0*10.0)"
      ],
      "execution_count": null,
      "outputs": [
        {
          "output_type": "stream",
          "name": "stdout",
          "text": [
            "314.1592\n"
          ]
        }
      ]
    },
    {
      "cell_type": "code",
      "metadata": {
        "colab": {
          "base_uri": "https://localhost:8080/"
        },
        "id": "Vu0LRmBetwKM",
        "outputId": "6b739686-de00-4b18-c6b1-3d09ddbdb378"
      },
      "source": [
        "print((1/100)*1234)"
      ],
      "execution_count": null,
      "outputs": [
        {
          "output_type": "stream",
          "name": "stdout",
          "text": [
            "12.34\n"
          ]
        }
      ]
    },
    {
      "cell_type": "code",
      "metadata": {
        "id": "iylwFWl2ucgx"
      },
      "source": [
        "import turtle as t #삼각형\n",
        "t.shape(\"turtle\")\n",
        "t.fd(100)\n",
        "t.lt(120)\n",
        "t.fd(100)\n",
        "t.lt(120)\n",
        "t.fd(100)\n",
        "t.lt(120)"
      ],
      "execution_count": null,
      "outputs": []
    },
    {
      "cell_type": "code",
      "metadata": {
        "id": "MDfrI64FupZu"
      },
      "source": [
        "import turtle as t #사각형\n",
        "t.shape(\"turtle\")\n",
        "t.fd(100)\n",
        "t.lt(90)\n",
        "t.fd(100)\n",
        "t.lt(90)\n",
        "t.fd(100)\n",
        "t.lt(90)\n",
        "t.fd(100)\n",
        "t.lt(90)"
      ],
      "execution_count": null,
      "outputs": []
    },
    {
      "cell_type": "code",
      "metadata": {
        "id": "6HbJUWZ_uywG"
      },
      "source": [
        "import turtle as t #육각형\n",
        "t.shape(\"turtle\")\n",
        "t.fd(100)\n",
        "t.lt(60)\n",
        "t.fd(100)\n",
        "t.lt(60)\n",
        "t.fd(100)\n",
        "t.lt(60)\n",
        "t.fd(100)\n",
        "t.lt(60)\n",
        "t.fd(100)\n",
        "t.lt(60)\n",
        "t.fd(100)\n",
        "t.lt(60)"
      ],
      "execution_count": null,
      "outputs": []
    },
    {
      "cell_type": "markdown",
      "metadata": {
        "id": "N71Lj_9Gu6tn"
      },
      "source": [
        "연습문제"
      ]
    },
    {
      "cell_type": "code",
      "metadata": {
        "colab": {
          "base_uri": "https://localhost:8080/"
        },
        "id": "GuHE62ywviTc",
        "outputId": "4442a96b-3234-4ee8-c884-980b09bc82e3"
      },
      "source": [
        "print(\"파이썬은 강력합니다\") #1번 문제"
      ],
      "execution_count": null,
      "outputs": [
        {
          "output_type": "stream",
          "name": "stdout",
          "text": [
            "파이썬은 강력합니다\n"
          ]
        }
      ]
    },
    {
      "cell_type": "code",
      "metadata": {
        "id": "RSUK4P-fvnWD"
      },
      "source": [
        "반갑습니다. 파이썬 #2번문제\n",
        "0.6 \n",
        "Hello World !!1"
      ],
      "execution_count": null,
      "outputs": []
    },
    {
      "cell_type": "code",
      "metadata": {
        "colab": {
          "base_uri": "https://localhost:8080/"
        },
        "id": "rHIEb4WUwpHt",
        "outputId": "fa4edae2-a43b-4070-c52a-02827c4cb975"
      },
      "source": [
        "print(7*24) #3번 문제"
      ],
      "execution_count": null,
      "outputs": [
        {
          "output_type": "stream",
          "name": "stdout",
          "text": [
            "168\n"
          ]
        }
      ]
    },
    {
      "cell_type": "code",
      "metadata": {
        "id": "Jw7UT_SXwun5"
      },
      "source": [
        "import turtle as t #4번 문제\n",
        "t.shape(\"turtle\")\n",
        "t.fd(100)\n",
        "t.lt(90)\n",
        "t.fd(100)\n",
        "t.lt(270)\n",
        "t.fd(100)\n",
        "t.lt(270)\n",
        "t.fd(100)\n",
        "t.lt(90)\n",
        "t.fd(100)"
      ],
      "execution_count": null,
      "outputs": []
    },
    {
      "cell_type": "code",
      "metadata": {
        "id": "Cqujz-9X5p7D"
      },
      "source": [
        "import turtle as t #5번 문제\n",
        "t.shape(\"turtle\")\n",
        "t.width(10)\n",
        "t.fd(100)\n",
        "t.lt(90)\n",
        "t.fd(100)"
      ],
      "execution_count": null,
      "outputs": []
    },
    {
      "cell_type": "code",
      "metadata": {
        "id": "iKEgS2w-5-d8"
      },
      "source": [
        "import turtle as t #6번문제\n",
        "t.shape(\"turtle\")\n",
        "t.color(\"blue\")\n",
        "t.fd(100)"
      ],
      "execution_count": null,
      "outputs": []
    },
    {
      "cell_type": "code",
      "metadata": {
        "id": "2voVVCFo6Krr"
      },
      "source": [
        "import turtle as t #7번 문제\n",
        "t.shape(\"square\")\n",
        "t.fd(100)"
      ],
      "execution_count": null,
      "outputs": []
    },
    {
      "cell_type": "code",
      "metadata": {
        "id": "aWPxueSB6rXU"
      },
      "source": [
        "import turtle as t #8번문제\n",
        "t.shape(\"turtle\")\n",
        "t.fd(100)\n",
        "t.up()\n",
        "t.goto(0,100)\n",
        "t.down()\n",
        "t.fd(100)"
      ],
      "execution_count": null,
      "outputs": []
    },
    {
      "cell_type": "code",
      "metadata": {
        "id": "SOjNNRxO9Aeg"
      },
      "source": [
        "import turtle as t #9번 문제\n",
        "t.shape(\"turtle\")\n",
        "t.circle(100)\n",
        "t.up()\n",
        "t.goto(200,0)\n",
        "t.down()\n",
        "t.circle(100)\n",
        "t.up()\n",
        "t.goto(400,0)\n",
        "t.down()\n",
        "t.circle(100)\n",
        "t.up()\n",
        "t.goto(100,-100)\n",
        "t.down()\n",
        "t.circle(100)\n",
        "t.up()\n",
        "t.goto(300,-100)\n",
        "t.down()\n",
        "t.circle(100)"
      ],
      "execution_count": null,
      "outputs": []
    }
  ]
}