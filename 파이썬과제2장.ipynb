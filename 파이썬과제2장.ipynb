{
  "nbformat": 4,
  "nbformat_minor": 0,
  "metadata": {
    "colab": {
      "name": "파이썬과제2장.ipynb",
      "provenance": [],
      "authorship_tag": "ABX9TyNFHkXcyGuv0TPbrA4CFtEw",
      "include_colab_link": true
    },
    "kernelspec": {
      "name": "python3",
      "display_name": "Python 3"
    },
    "language_info": {
      "name": "python"
    }
  },
  "cells": [
    {
      "cell_type": "markdown",
      "metadata": {
        "id": "view-in-github",
        "colab_type": "text"
      },
      "source": [
        "<a href=\"https://colab.research.google.com/github/2100553tjwlals/2-/blob/main/%ED%8C%8C%EC%9D%B4%EC%8D%AC%EA%B3%BC%EC%A0%9C2%EC%9E%A5.ipynb\" target=\"_parent\"><img src=\"https://colab.research.google.com/assets/colab-badge.svg\" alt=\"Open In Colab\"/></a>"
      ]
    },
    {
      "cell_type": "code",
      "metadata": {
        "id": "r59PIhxur1Nu"
      },
      "source": [
        "도전문제"
      ],
      "execution_count": null,
      "outputs": []
    },
    {
      "cell_type": "code",
      "metadata": {
        "id": "0SWp8Wt4sJMq"
      },
      "source": [
        "13\n",
        "76"
      ],
      "execution_count": null,
      "outputs": []
    },
    {
      "cell_type": "code",
      "metadata": {
        "id": "kCn407dOscwf"
      },
      "source": [
        "import turtle as t\n",
        "t.shape(\"turtle\") \n",
        "radius = 50 #반지름 변수만 바꾸면 다 바뀐다\n",
        "x = 30 #x를 30으로한다\n",
        "t.circle(radius) #반지름이 radius인 원을 그린다\n",
        "t.fd(x)  #x만큼 앞으로 간다\n",
        "t.circle(radius)\n",
        "x = 50\n",
        "t.fd(x)\n",
        "t.circle(radius)"
      ],
      "execution_count": null,
      "outputs": []
    },
    {
      "cell_type": "code",
      "metadata": {
        "colab": {
          "base_uri": "https://localhost:8080/"
        },
        "id": "HVnBhs1XtsIb",
        "outputId": "921ec501-731b-401c-8cac-77ec712ca4b1"
      },
      "source": [
        "x = int(input(\"첫번째 정수를 입력\")) #변수x를 정수로 받는다\n",
        "y = int(input(\"두번째 정수를 입력\")) #변수y를 정수로 받는다\n",
        "\n",
        "print(x, \"+\", y, \"=\", x + y) #덧셈\n",
        "print(x, \"-\", y, \"=\", x - y) #뺄셈\n",
        "print(x, \"*\", y, \"=\", x * y) #곱셈\n",
        "print(x, \"/\", y, \"=\", x / y) #나눗셈"
      ],
      "execution_count": null,
      "outputs": [
        {
          "output_type": "stream",
          "name": "stdout",
          "text": [
            "첫번째 정수를 입력1\n",
            "두번째 정수를 입력2\n",
            "1 + 2 = 3\n",
            "1 - 2 = -1\n",
            "1 * 2 = 2\n",
            "1 / 2 = 0.5\n"
          ]
        }
      ]
    },
    {
      "cell_type": "code",
      "metadata": {
        "id": "4AzKtpe4u9D1"
      },
      "source": [
        "연습문제"
      ],
      "execution_count": null,
      "outputs": []
    },
    {
      "cell_type": "code",
      "metadata": {
        "colab": {
          "base_uri": "https://localhost:8080/"
        },
        "id": "5UvyKN-Vu-kw",
        "outputId": "d67ffe44-0d09-4174-b2c1-7d8b8c2186f7"
      },
      "source": [
        "x = input(\"이름을 입력하시오\")  #이름을 변수로 받는다   #1번째 연습문제\n",
        "y = int(input(\"나이를 입력하시오\")) #나이를 변수로 받는다\n",
        "z = 100 - y + 2021 #2021년 부터 몇년후에 100살이 되는지 계산\n",
        "\n",
        "print(x, \"씨는\", str(z) ,\"년에 100살이시네요!\")"
      ],
      "execution_count": null,
      "outputs": [
        {
          "output_type": "stream",
          "name": "stdout",
          "text": [
            "이름을 입력하시오홍길동\n",
            "나이를 입력하시오20\n",
            "홍길동 씨는 2101 년에 100살이시네요!\n"
          ]
        }
      ]
    },
    {
      "cell_type": "code",
      "metadata": {
        "colab": {
          "base_uri": "https://localhost:8080/"
        },
        "id": "oQ6JhSRvyIeP",
        "outputId": "86a0ffe2-be04-4499-991e-44611b15f7ba"
      },
      "source": [
        "x = int(input(\"첫번째 숫자를 입력하시오\"))   #첫번째 숫자를 정수로 받는다    #2번째 연습문제\n",
        "y = int(input(\"두번째 숫자를 입력하시오\"))  #두번째 숫자를 정수로 받는다\n",
        "z = int(input(\"세번째 숫자를 입력하시오\"))  #세번째 숫자를 정수로 받는다\n",
        "average = (x + y + z) / 3  #변수 3개의 평균을 구한다\n",
        "\n",
        "print(x, y, z, \"의 평균은\", str(average), \"입니다.\")"
      ],
      "execution_count": null,
      "outputs": [
        {
          "output_type": "stream",
          "name": "stdout",
          "text": [
            "첫번째 숫자를 입력하시오1\n",
            "두번째 숫자를 입력하시오2\n",
            "세번째 숫자를 입력하시오3\n",
            "1 2 3 의 평균은 2.0 입니다.\n"
          ]
        }
      ]
    },
    {
      "cell_type": "code",
      "metadata": {
        "colab": {
          "base_uri": "https://localhost:8080/"
        },
        "id": "Gq_lGRTLzS6v",
        "outputId": "ee8b9052-e510-46f0-ca7d-dea550a21243"
      },
      "source": [
        "radius = int(input(\"반지름을 입력하시오\")) #반지름을 정수로 받는다  #3번째 연습문제\n",
        "x = 3.141592 * radius *radius  #원의 넓이 공식\n",
        "\n",
        "print(\"반지름이\", radius,\"인 원의 넓이는\", x,\"입니다.\")"
      ],
      "execution_count": null,
      "outputs": [
        {
          "output_type": "stream",
          "name": "stdout",
          "text": [
            "반지름을 입력하시오10\n",
            "반지름이 10 인 원의 넓이는 314.1592 입니다.\n"
          ]
        }
      ]
    },
    {
      "cell_type": "code",
      "metadata": {
        "id": "gTpC9sWr0CJN"
      },
      "source": [
        "import turtle as t   #4번째 연습문제\n",
        "t.shape(\"turtle\")  #모양을 거북이로 한다\n",
        "radius = 50  #radius를 50으로 한다\n",
        "t.circle(radius)  #반지름이 radius인 원을 그린다\n",
        "radius = radius + 20  #radius에 20을 더한값을 변수로 놓는다\n",
        "t.up()  #펜을 든다\n",
        "t.goto(100,0)  #100,0으로 간다\n",
        "t.down() #펜을 내려놓는다\n",
        "t.circle(radius)\n",
        "radius = radius + 20\n",
        "t.up()\n",
        "t.goto(200,0)\n",
        "t.down()\n",
        "t.circle(radius)"
      ],
      "execution_count": null,
      "outputs": []
    },
    {
      "cell_type": "code",
      "metadata": {
        "id": "xj5c31qiM0g7"
      },
      "source": [
        "import turtle as t   #5번째 연습문제\n",
        "t.shape(\"turtle\") #모양을 거북이로한다\n",
        "side = 100  #side를 100으로 한다\n",
        "t.fd(side)  #side만큼 앞으로 간다\n",
        "t.lt(120)  #120도 만큼 왼쪽으로 돈다\n",
        "t.fd(side)\n",
        "t.lt(120)\n",
        "t.fd(side)"
      ],
      "execution_count": null,
      "outputs": []
    },
    {
      "cell_type": "code",
      "metadata": {
        "id": "UkaHCTx9Nvqg"
      },
      "source": [
        "side를 200으로 바꾸면 된다 #6번 문제"
      ],
      "execution_count": null,
      "outputs": []
    },
    {
      "cell_type": "code",
      "metadata": {
        "id": "LGAT8cRmOq25"
      },
      "source": [
        "import turtle as t   #7번째 연습문제\n",
        "t.shape(\"turtle\") #모양을 거북이로 바꾼다\n",
        "side = 100  #side를 100으로 한다\n",
        "angle = 90  #angle를 90으로 한다\n",
        "t.fd(side)  #side만큼 앞으로 간다\n",
        "t.rt(angle)  #angle만큼 오른쪽으로 돈다\n",
        "t.fd(side)\n",
        "t.rt(angle)\n",
        "t.fd(side)\n",
        "t.rt(angle)\n",
        "t.fd(side)\n",
        "t.fd(side)\n",
        "t.rt(angle)\n",
        "t.fd(side)\n",
        "t.rt(angle)\n",
        "t.fd(side)\n",
        "t.rt(angle)\n",
        "t.fd(side)\n",
        "t.fd(side)\n",
        "t.rt(angle)\n",
        "t.fd(side)\n",
        "t.rt(angle)\n",
        "t.fd(side)\n",
        "t.rt(angle)\n",
        "t.fd(side)\n",
        "t.fd(side)\n",
        "t.rt(angle)\n",
        "t.fd(side)\n",
        "t.rt(angle)\n",
        "t.fd(side)\n",
        "t.rt(angle)\n",
        "t.fd(side)"
      ],
      "execution_count": null,
      "outputs": []
    }
  ]
}