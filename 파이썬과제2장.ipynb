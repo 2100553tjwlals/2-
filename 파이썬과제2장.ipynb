{
  "nbformat": 4,
  "nbformat_minor": 0,
  "metadata": {
    "colab": {
      "name": "파이썬과제2장.ipynb",
      "provenance": [],
      "authorship_tag": "ABX9TyNHe3LdiwGAOFaD5TF4vVP+",
      "include_colab_link": true
    },
    "kernelspec": {
      "name": "python3",
      "display_name": "Python 3"
    },
    "language_info": {
      "name": "python"
    }
  },
  "cells": [
    {
      "cell_type": "markdown",
      "metadata": {
        "id": "view-in-github",
        "colab_type": "text"
      },
      "source": [
        "<a href=\"https://colab.research.google.com/github/2100553tjwlals/2-/blob/main/%ED%8C%8C%EC%9D%B4%EC%8D%AC%EA%B3%BC%EC%A0%9C2%EC%9E%A5.ipynb\" target=\"_parent\"><img src=\"https://colab.research.google.com/assets/colab-badge.svg\" alt=\"Open In Colab\"/></a>"
      ]
    },
    {
      "cell_type": "code",
      "metadata": {
        "id": "r59PIhxur1Nu"
      },
      "source": [
        "도전문제"
      ],
      "execution_count": null,
      "outputs": []
    },
    {
      "cell_type": "code",
      "metadata": {
        "id": "0SWp8Wt4sJMq"
      },
      "source": [
        "13\n",
        "76"
      ],
      "execution_count": null,
      "outputs": []
    },
    {
      "cell_type": "code",
      "metadata": {
        "id": "kCn407dOscwf"
      },
      "source": [
        "import turtle as t\n",
        "t.shape(\"turtle\") \n",
        "radius = 50 #반지름 변수만 바꾸면 다 바뀐다\n",
        "x = 30 \n",
        "t.circle(radius)\n",
        "t.fd(x)\n",
        "t.circle(radius)\n",
        "x = 50\n",
        "t.fd(x)\n",
        "t.circle(radius)"
      ],
      "execution_count": null,
      "outputs": []
    },
    {
      "cell_type": "code",
      "metadata": {
        "colab": {
          "base_uri": "https://localhost:8080/"
        },
        "id": "HVnBhs1XtsIb",
        "outputId": "921ec501-731b-401c-8cac-77ec712ca4b1"
      },
      "source": [
        "x = int(input(\"첫번째 정수를 입력\")) #변수를 정수로 받는다\n",
        "y = int(input(\"두번째 정수를 입력\"))\n",
        "\n",
        "print(x, \"+\", y, \"=\", x + y) #덧셈\n",
        "print(x, \"-\", y, \"=\", x - y) #뺄셈\n",
        "print(x, \"*\", y, \"=\", x * y) #곱셈\n",
        "print(x, \"/\", y, \"=\", x / y) #나눗셈"
      ],
      "execution_count": null,
      "outputs": [
        {
          "output_type": "stream",
          "name": "stdout",
          "text": [
            "첫번째 정수를 입력1\n",
            "두번째 정수를 입력2\n",
            "1 + 2 = 3\n",
            "1 - 2 = -1\n",
            "1 * 2 = 2\n",
            "1 / 2 = 0.5\n"
          ]
        }
      ]
    },
    {
      "cell_type": "code",
      "metadata": {
        "id": "4AzKtpe4u9D1"
      },
      "source": [
        "연습문제"
      ],
      "execution_count": null,
      "outputs": []
    },
    {
      "cell_type": "code",
      "metadata": {
        "colab": {
          "base_uri": "https://localhost:8080/"
        },
        "id": "5UvyKN-Vu-kw",
        "outputId": "d67ffe44-0d09-4174-b2c1-7d8b8c2186f7"
      },
      "source": [
        "x = input(\"이름을 입력하시오\")    #1번째 연습문제\n",
        "y = int(input(\"나이를 입력하시오\"))\n",
        "z = 100 - y + 2021\n",
        "\n",
        "print(x, \"씨는\", str(z) ,\"년에 100살이시네요!\")"
      ],
      "execution_count": null,
      "outputs": [
        {
          "output_type": "stream",
          "name": "stdout",
          "text": [
            "이름을 입력하시오홍길동\n",
            "나이를 입력하시오20\n",
            "홍길동 씨는 2101 년에 100살이시네요!\n"
          ]
        }
      ]
    },
    {
      "cell_type": "code",
      "metadata": {
        "colab": {
          "base_uri": "https://localhost:8080/"
        },
        "id": "oQ6JhSRvyIeP",
        "outputId": "86a0ffe2-be04-4499-991e-44611b15f7ba"
      },
      "source": [
        "x = int(input(\"첫번째 숫자를 입력하시오\")) #2번째 연습문제\n",
        "y = int(input(\"두번째 숫자를 입력하시오\"))\n",
        "z = int(input(\"세번째 숫자를 입력하시오\"))\n",
        "average = (x + y + z) / 3\n",
        "\n",
        "print(x, y, z, \"의 평균은\", str(average), \"입니다.\") "
      ],
      "execution_count": null,
      "outputs": [
        {
          "output_type": "stream",
          "name": "stdout",
          "text": [
            "첫번째 숫자를 입력하시오1\n",
            "두번째 숫자를 입력하시오2\n",
            "세번째 숫자를 입력하시오3\n",
            "1 2 3 의 평균은 2.0 입니다.\n"
          ]
        }
      ]
    },
    {
      "cell_type": "code",
      "metadata": {
        "colab": {
          "base_uri": "https://localhost:8080/"
        },
        "id": "Gq_lGRTLzS6v",
        "outputId": "ee8b9052-e510-46f0-ca7d-dea550a21243"
      },
      "source": [
        "radius = int(input(\"반지름을 입력하시오\"))   #3번째 연습문제\n",
        "x = 3.141592 * radius *radius\n",
        "\n",
        "print(\"반지름이\", radius,\"인 원의 넓이는\", x,\"입니다.\")"
      ],
      "execution_count": null,
      "outputs": [
        {
          "output_type": "stream",
          "name": "stdout",
          "text": [
            "반지름을 입력하시오10\n",
            "반지름이 10 인 원의 넓이는 314.1592 입니다.\n"
          ]
        }
      ]
    },
    {
      "cell_type": "code",
      "metadata": {
        "id": "gTpC9sWr0CJN"
      },
      "source": [
        "import turtle as t   #4번째 연습문제\n",
        "t.shape(\"turtle\")\n",
        "radius = 50\n",
        "t.circle(radius)\n",
        "radius = radius + 20\n",
        "t.up()\n",
        "t.goto(100,0)\n",
        "t.down()\n",
        "t.circle(radius)\n",
        "radius = radius + 20\n",
        "t.up()\n",
        "t.goto(200,0)\n",
        "t.down()\n",
        "t.circle(radius)"
      ],
      "execution_count": null,
      "outputs": []
    },
    {
      "cell_type": "code",
      "metadata": {
        "id": "xj5c31qiM0g7"
      },
      "source": [
        "import turtle as t   #5번째 연습문제\n",
        "t.shape(\"turtle\")\n",
        "side = 100\n",
        "t.fd(side)\n",
        "t.lt(120)\n",
        "t.fd(side)\n",
        "t.lt(120)\n",
        "t.fd(side)"
      ],
      "execution_count": null,
      "outputs": []
    },
    {
      "cell_type": "code",
      "metadata": {
        "id": "UkaHCTx9Nvqg"
      },
      "source": [
        "side를 200으로 바꾸면 된다 #6번 문제"
      ],
      "execution_count": null,
      "outputs": []
    },
    {
      "cell_type": "code",
      "metadata": {
        "id": "LGAT8cRmOq25"
      },
      "source": [
        "import turtle as t   #4번째 연습문제\n",
        "t.shape(\"turtle\")\n",
        "side = 100\n",
        "angle = 90\n",
        "t.fd(side)\n",
        "t.rt(angle)\n",
        "t.fd(side)\n",
        "t.rt(angle)\n",
        "t.fd(side)\n",
        "t.rt(angle)\n",
        "t.fd(side)\n",
        "t.fd(side)\n",
        "t.rt(angle)\n",
        "t.fd(side)\n",
        "t.rt(angle)\n",
        "t.fd(side)\n",
        "t.rt(angle)\n",
        "t.fd(side)\n",
        "t.fd(side)\n",
        "t.rt(angle)\n",
        "t.fd(side)\n",
        "t.rt(angle)\n",
        "t.fd(side)\n",
        "t.rt(angle)\n",
        "t.fd(side)\n",
        "t.fd(side)\n",
        "t.rt(angle)\n",
        "t.fd(side)\n",
        "t.rt(angle)\n",
        "t.fd(side)\n",
        "t.rt(angle)\n",
        "t.fd(side)"
      ],
      "execution_count": null,
      "outputs": []
    }
  ]
}