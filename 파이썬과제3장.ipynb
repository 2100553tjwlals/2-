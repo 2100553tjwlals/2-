{
  "nbformat": 4,
  "nbformat_minor": 0,
  "metadata": {
    "colab": {
      "name": "파이썬과제3장.ipynb",
      "provenance": [],
      "collapsed_sections": [],
      "authorship_tag": "ABX9TyN/yhS8y87iQBoleRdeMqqi",
      "include_colab_link": true
    },
    "kernelspec": {
      "name": "python3",
      "display_name": "Python 3"
    },
    "language_info": {
      "name": "python"
    }
  },
  "cells": [
    {
      "cell_type": "markdown",
      "metadata": {
        "id": "view-in-github",
        "colab_type": "text"
      },
      "source": [
        "<a href=\"https://colab.research.google.com/github/2100553tjwlals/2-/blob/main/%ED%8C%8C%EC%9D%B4%EC%8D%AC%EA%B3%BC%EC%A0%9C3%EC%9E%A5.ipynb\" target=\"_parent\"><img src=\"https://colab.research.google.com/assets/colab-badge.svg\" alt=\"Open In Colab\"/></a>"
      ]
    },
    {
      "cell_type": "markdown",
      "metadata": {
        "id": "8VoOWln_PM5t"
      },
      "source": [
        "도전문제"
      ]
    },
    {
      "cell_type": "code",
      "metadata": {
        "colab": {
          "base_uri": "https://localhost:8080/"
        },
        "id": "mjVKuJlBRjuA",
        "outputId": "e08ddab9-6b1d-4797-c0db-882037436ffc"
      },
      "source": [
        "total = 10000\n",
        "ame_p = 2000\n",
        "cafe_p = 3000\n",
        "capu_p = 3500 \n",
        "\n",
        "ames = int(input(\"아메리카노 판매 개수:\"))\n",
        "cafes = int(input(\"카페라테 판매 개수:\"))\n",
        "capus = int(input(\"카푸치노 판매 개수:\"))\n",
        "\n",
        "ame_s = ames * ame_p \n",
        "cafe_s = cafes * cafe_p\n",
        "capu_s = capus * capu_p\n",
        "sales = ame_s + cafe_s + capu_s\n",
        "print(\"총 매출은\", sales, \"입니다.\")\n",
        "\n",
        "if (total > sales) : print(\"적자 입니다.\")\n",
        "else : print(\"흑자입니다.\")"
      ],
      "execution_count": null,
      "outputs": [
        {
          "output_type": "stream",
          "name": "stdout",
          "text": [
            "아메리카노 판매 개수:10\n",
            "카페라테 판매 개수:20\n",
            "카푸치노 판매 개수:30\n",
            "총 매출은 185000 입니다.\n",
            "흑자입니다.\n"
          ]
        }
      ]
    },
    {
      "cell_type": "code",
      "metadata": {
        "colab": {
          "base_uri": "https://localhost:8080/"
        },
        "id": "SX2bJXp3VUum",
        "outputId": "fc46db87-9d5b-4d0f-c274-02ede601d988"
      },
      "source": [
        "ctemp = int(input(\"섭씨 온도:\"))\n",
        "ftemp = 9/5 * ctemp + 32\n",
        "print(\"화씨온도:\", ftemp)"
      ],
      "execution_count": null,
      "outputs": [
        {
          "output_type": "stream",
          "name": "stdout",
          "text": [
            "섭씨 온도:100\n",
            "화씨온도: 212.0\n"
          ]
        }
      ]
    },
    {
      "cell_type": "code",
      "metadata": {
        "id": "r-tmkDy8WODV"
      },
      "source": [
        "money = int(input(\"투입한 돈:\"))\n",
        "price = int(input(\"물건 값:\"))\n",
        "change = money - price\n",
        "print(\"거스름돈:\", change)\n",
        "c500 = change // 500\n",
        "change = change % 500\n",
        "c100 = change // 100\n",
        "change = change % 100\n",
        "c50 = change // 50\n",
        "change = change % 50\n",
        "c10 = change // 10\n",
        "print(\"500원 동전의 개수:\", c500) \n",
        "print(\"100원 동전의 개수:\", c100) \n",
        "print(\"50원 동전의 개수:\", c50) \n",
        "print(\"10원 동전의 개수:\", c10) "
      ],
      "execution_count": null,
      "outputs": []
    },
    {
      "cell_type": "markdown",
      "metadata": {
        "id": "M4ikajHF-Dho"
      },
      "source": [
        "연습문제"
      ]
    },
    {
      "cell_type": "code",
      "metadata": {
        "colab": {
          "base_uri": "https://localhost:8080/"
        },
        "id": "-RFjHDUv_a71",
        "outputId": "110b5447-2bea-40a9-c3db-d04626a43140"
      },
      "source": [
        "x = int(input(\"x:\"))  #1번문제 \n",
        "y = int(input(\"y:\"))\n",
        "\n",
        "print(\"두수의 합:\", x + y)\n",
        "print(\"두수의 차:\", x - y)\n",
        "print(\"두수의 곱:\", x * y)\n",
        "print(\"두수의 평균:\", (x + y)/2 )\n",
        "print(\"큰수:\", max(x, y))\n",
        "print(\"작은수:\", min(x, y))"
      ],
      "execution_count": null,
      "outputs": [
        {
          "output_type": "stream",
          "name": "stdout",
          "text": [
            "x:10\n",
            "y:20\n",
            "두수의 합: 30\n",
            "두수의 차: -10\n",
            "두수의 곱: 200\n",
            "두수의 평균: 15.0\n",
            "큰수: 20\n",
            "작은수: 10\n"
          ]
        }
      ]
    },
    {
      "cell_type": "code",
      "metadata": {
        "colab": {
          "base_uri": "https://localhost:8080/"
        },
        "id": "MWRkvfphBKuE",
        "outputId": "90fa2713-91d5-4e93-bf1c-771f7a882cf5"
      },
      "source": [
        "r = int(input(\"r:\"))  #2번문제 \n",
        "h = int(input(\"h:\"))\n",
        "vol = 3.141592 * (r**2) * h\n",
        "print(\"원기둥의 부피:\", vol)"
      ],
      "execution_count": null,
      "outputs": [
        {
          "output_type": "stream",
          "name": "stdout",
          "text": [
            "r:10\n",
            "h:100\n",
            "원기둥의 부피: 31415.92\n"
          ]
        }
      ]
    },
    {
      "cell_type": "code",
      "metadata": {
        "colab": {
          "base_uri": "https://localhost:8080/"
        },
        "id": "bRT8WaflB7EH",
        "outputId": "7b5b4d75-45ae-4085-de28-ab5d9a328f04"
      },
      "source": [
        "x = int(input(\"정수를 입력하시오:\"))   #3번문제 \n",
        "\n",
        "n1000 = x // 1000\n",
        "x = x % 1000\n",
        "n100 = x // 100\n",
        "x = x % 100\n",
        "n10 = x // 10\n",
        "x = x % 10\n",
        "n1 = x % 10\n",
        "print(\"자리수의 합:\", n1000 + n100 + n10 + n1)"
      ],
      "execution_count": null,
      "outputs": [
        {
          "output_type": "stream",
          "name": "stdout",
          "text": [
            "정수를 입력하시오:1234\n",
            "자리수의 합: 10\n"
          ]
        }
      ]
    },
    {
      "cell_type": "code",
      "metadata": {
        "colab": {
          "base_uri": "https://localhost:8080/"
        },
        "id": "wBupL64JDaOR",
        "outputId": "82ba302f-067b-4ebb-9773-7e1172a05ba4"
      },
      "source": [
        "x1 = int(input(\"x1:\"))   #4번문제 \n",
        "y1 = int(input(\"y1:\"))\n",
        "x2 = int(input(\"x2:\"))\n",
        "y2 = int(input(\"y2:\"))\n",
        "l = (((x2 - x1)**2) +((y2 - y1)**2))**0.5\n",
        "print(\"두점 사이의 거리=:\", l )"
      ],
      "execution_count": null,
      "outputs": [
        {
          "output_type": "stream",
          "name": "stdout",
          "text": [
            "x1:0\n",
            "y1:0\n",
            "x2:100\n",
            "y2:100\n",
            "두점 사이의 거리=: 141.4213562373095\n"
          ]
        }
      ]
    },
    {
      "cell_type": "code",
      "metadata": {
        "id": "TIiODhTAF1l4"
      },
      "source": [
        "import turtle as t  #5번문제\n",
        "t.shape(\"turtle\")\n",
        "t.lt(45)\n",
        "t.fd(141)\n",
        "t.setheading(0)\n",
        "t.up()\n",
        "t.goto(0,0)\n",
        "t.down()\n",
        "t.fd(100)\n",
        "t.lt(90)\n",
        "t.fd(100)"
      ],
      "execution_count": null,
      "outputs": []
    },
    {
      "cell_type": "code",
      "metadata": {
        "id": "0AkslyGqG2LB"
      },
      "source": [
        "import turtle as t   #6번문제 \n",
        "t.shape(\"turtle\")\n",
        "\n",
        "x1 = 0   #4번문제 \n",
        "y1 = 0\n",
        "x2 = 100\n",
        "y2 = 100\n",
        "l = (((x2 - x1)**2) +((y2 - y1)**2))**0.5\n",
        "t.goto(x1,y1) \n",
        "t.goto(x2,y2)\n",
        "t.write(\"점의 길이=\" + str(l))"
      ],
      "execution_count": null,
      "outputs": []
    },
    {
      "cell_type": "code",
      "metadata": {
        "colab": {
          "base_uri": "https://localhost:8080/"
        },
        "id": "GBKtF8rcJOt5",
        "outputId": "e8b13128-725d-4065-b24c-123e1aaf123c"
      },
      "source": [
        "import time  #7번문제 \n",
        "\n",
        "x =time.time()\n",
        "t_sec = int(x)\n",
        "t_min = t_sec // 60\n",
        "t_hour = t_min // 60\n",
        "min = t_min % 60\n",
        "hour = t_hour % 24\n",
        "\n",
        "print(\"현재 시간(영국 그리니치 시각):\", str(hour) + \"시\", str(min), \"분\")"
      ],
      "execution_count": null,
      "outputs": [
        {
          "output_type": "stream",
          "name": "stdout",
          "text": [
            "현재 시간(영국 그리니치 시각): 8시 14 분\n"
          ]
        }
      ]
    },
    {
      "cell_type": "code",
      "metadata": {
        "colab": {
          "base_uri": "https://localhost:8080/"
        },
        "id": "gAWKvG6UN4l2",
        "outputId": "ecde64cd-c627-4f87-c598-530a26394bb3"
      },
      "source": [
        "x = int(input(\"물체의 무게를 입력하시오(킬로그램):\"))  #8번문제 \n",
        "y = int(input(\"물체의 속도를 입력하시오(미처/초)\"))\n",
        "z = 1/2 * x * y**2 \n",
        "print(\"물체는\", z ,\"줄의 에너지를 가지고 있다.\")"
      ],
      "execution_count": null,
      "outputs": [
        {
          "output_type": "stream",
          "name": "stdout",
          "text": [
            "물체의 무게를 입력하시오(킬로그램):10\n",
            "물체의 속도를 입력하시오(미처/초)100\n",
            "물체는 50000.0 줄의 에너지를 가지고 있다.\n"
          ]
        }
      ]
    }
  ]
}