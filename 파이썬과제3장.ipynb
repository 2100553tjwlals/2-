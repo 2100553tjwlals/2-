{
  "nbformat": 4,
  "nbformat_minor": 0,
  "metadata": {
    "colab": {
      "name": "파이썬과제3장.ipynb",
      "provenance": [],
      "collapsed_sections": [],
      "authorship_tag": "ABX9TyMQ450h2p1v6Zh72ydJCg2o",
      "include_colab_link": true
    },
    "kernelspec": {
      "name": "python3",
      "display_name": "Python 3"
    },
    "language_info": {
      "name": "python"
    }
  },
  "cells": [
    {
      "cell_type": "markdown",
      "metadata": {
        "id": "view-in-github",
        "colab_type": "text"
      },
      "source": [
        "<a href=\"https://colab.research.google.com/github/2100553tjwlals/2-/blob/main/%ED%8C%8C%EC%9D%B4%EC%8D%AC%EA%B3%BC%EC%A0%9C3%EC%9E%A5.ipynb\" target=\"_parent\"><img src=\"https://colab.research.google.com/assets/colab-badge.svg\" alt=\"Open In Colab\"/></a>"
      ]
    },
    {
      "cell_type": "markdown",
      "metadata": {
        "id": "8VoOWln_PM5t"
      },
      "source": [
        "도전문제"
      ]
    },
    {
      "cell_type": "code",
      "metadata": {
        "colab": {
          "base_uri": "https://localhost:8080/"
        },
        "id": "mjVKuJlBRjuA",
        "outputId": "e08ddab9-6b1d-4797-c0db-882037436ffc"
      },
      "source": [
        "total = 10000  #총 재료비용\n",
        "ame_p = 2000  #아메리카노의 값\n",
        "cafe_p = 3000  #카메모카의 값\n",
        "capu_p = 3500   #카푸치노의 값\n",
        "\n",
        "ames = int(input(\"아메리카노 판매 개수:\"))   #아메리카노의 판매개수를 변수로 받는다\n",
        "cafes = int(input(\"카페라테 판매 개수:\"))   #카페라떼의 판매개수를 변수로 받는다\n",
        "capus = int(input(\"카푸치노 판매 개수:\"))   #카푸치노의 판매개수를 변수로 받는다\n",
        "\n",
        "ame_s = ames * ame_p  #총아메리카노의 값\n",
        "cafe_s = cafes * cafe_p  #총카페라떼의 값\n",
        "capu_s = capus * capu_p  #총카푸치노의 값\n",
        "sales = ame_s + cafe_s + capu_s  #총 매출값\n",
        "print(\"총 매출은\", sales, \"입니다.\")\n",
        "\n",
        "if (total > sales) : print(\"적자 입니다.\")  #total 보다 sales 가 작으면 출력\n",
        "else : print(\"흑자입니다.\") #위에것이 아니라면 출력"
      ],
      "execution_count": null,
      "outputs": [
        {
          "output_type": "stream",
          "name": "stdout",
          "text": [
            "아메리카노 판매 개수:10\n",
            "카페라테 판매 개수:20\n",
            "카푸치노 판매 개수:30\n",
            "총 매출은 185000 입니다.\n",
            "흑자입니다.\n"
          ]
        }
      ]
    },
    {
      "cell_type": "code",
      "metadata": {
        "colab": {
          "base_uri": "https://localhost:8080/"
        },
        "id": "SX2bJXp3VUum",
        "outputId": "fc46db87-9d5b-4d0f-c274-02ede601d988"
      },
      "source": [
        "ctemp = int(input(\"섭씨 온도:\"))   #섭씨온도를 정수로 받음\n",
        "ftemp = 9/5 * ctemp + 32   #섭씨온도를 화씨온도로 바꾸는 식\n",
        "print(\"화씨온도:\", ftemp)"
      ],
      "execution_count": null,
      "outputs": [
        {
          "output_type": "stream",
          "name": "stdout",
          "text": [
            "섭씨 온도:100\n",
            "화씨온도: 212.0\n"
          ]
        }
      ]
    },
    {
      "cell_type": "code",
      "metadata": {
        "id": "r-tmkDy8WODV",
        "colab": {
          "base_uri": "https://localhost:8080/"
        },
        "outputId": "8915061e-e663-4e92-9e2a-ff71c9bc8b4b"
      },
      "source": [
        "money = int(input(\"투입한 돈:\"))  #투입한돈을 정수로 받음\n",
        "price = int(input(\"물건 값:\"))    #물건값을 정수로 받음\n",
        "change = money - price   #거스름돈값\n",
        "print(\"거스름돈:\", change)\n",
        "c500 = change // 500   #거스름돈을 500으로 나눈 몫\n",
        "change = change % 500  #거스름돈을 500으로 나눈 나머지를 거스름돈으로 저장\n",
        "c100 = change // 100   #거스름돈을 100으로 나눈 몫\n",
        "change = change % 100   #거스름돈을 100으로 나눈 나머지를 거스름돈으로 저장\n",
        "c50 = change // 50   #거스름돈을 50으로 나눈 몫\n",
        "change = change % 50   #거스름돈을 50으로 나눈 나머지를 거스름돈으로 저장\n",
        "c10 = change // 10   #거스름돈을 10으로 나눈 몫\n",
        "print(\"500원 동전의 개수:\", c500) \n",
        "print(\"100원 동전의 개수:\", c100) \n",
        "print(\"50원 동전의 개수:\", c50) \n",
        "print(\"10원 동전의 개수:\", c10) "
      ],
      "execution_count": null,
      "outputs": [
        {
          "output_type": "stream",
          "name": "stdout",
          "text": [
            "투입한 돈:5000\n",
            "물건 값:2430\n",
            "거스름돈: 2570\n",
            "500원 동전의 개수: 5\n",
            "100원 동전의 개수: 0\n",
            "50원 동전의 개수: 1\n",
            "10원 동전의 개수: 2\n"
          ]
        }
      ]
    },
    {
      "cell_type": "markdown",
      "metadata": {
        "id": "M4ikajHF-Dho"
      },
      "source": [
        "연습문제"
      ]
    },
    {
      "cell_type": "code",
      "metadata": {
        "colab": {
          "base_uri": "https://localhost:8080/"
        },
        "id": "-RFjHDUv_a71",
        "outputId": "110b5447-2bea-40a9-c3db-d04626a43140"
      },
      "source": [
        "x = int(input(\"x:\")) #x를 변수로 받음 #1번문제 \n",
        "y = int(input(\"y:\"))  #y를 변수로 받음\n",
        "\n",
        "print(\"두수의 합:\", x + y)\n",
        "print(\"두수의 차:\", x - y)\n",
        "print(\"두수의 곱:\", x * y)\n",
        "print(\"두수의 평균:\", (x + y)/2 )\n",
        "print(\"큰수:\", max(x, y))\n",
        "print(\"작은수:\", min(x, y))"
      ],
      "execution_count": null,
      "outputs": [
        {
          "output_type": "stream",
          "name": "stdout",
          "text": [
            "x:10\n",
            "y:20\n",
            "두수의 합: 30\n",
            "두수의 차: -10\n",
            "두수의 곱: 200\n",
            "두수의 평균: 15.0\n",
            "큰수: 20\n",
            "작은수: 10\n"
          ]
        }
      ]
    },
    {
      "cell_type": "code",
      "metadata": {
        "colab": {
          "base_uri": "https://localhost:8080/"
        },
        "id": "MWRkvfphBKuE",
        "outputId": "90fa2713-91d5-4e93-bf1c-771f7a882cf5"
      },
      "source": [
        "r = int(input(\"r:\"))  #반지름을 변수로 받음 #2번문제 \n",
        "h = int(input(\"h:\"))  #높이를 변수로 받음\n",
        "vol = 3.141592 * (r**2) * h #원기둥의 부피 구하는 공식\n",
        "print(\"원기둥의 부피:\", vol)"
      ],
      "execution_count": null,
      "outputs": [
        {
          "output_type": "stream",
          "name": "stdout",
          "text": [
            "r:10\n",
            "h:100\n",
            "원기둥의 부피: 31415.92\n"
          ]
        }
      ]
    },
    {
      "cell_type": "code",
      "metadata": {
        "colab": {
          "base_uri": "https://localhost:8080/"
        },
        "id": "bRT8WaflB7EH",
        "outputId": "7b5b4d75-45ae-4085-de28-ab5d9a328f04"
      },
      "source": [
        "x = int(input(\"정수를 입력하시오:\")) #정수를 변수로 받음  #3번문제 \n",
        "\n",
        "n1000 = x // 1000  #x를 1000으로 나눈 몫\n",
        "x = x % 1000  #x를 1000으로 나눈 나머지를 x로 저장\n",
        "n100 = x // 100 #x를 100으로 나눈 몫\n",
        "x = x % 100  #x를 100으로 나눈 나머지를 x로 저장\n",
        "n10 = x // 10   #x를 10으로 나눈 몫\n",
        "x = x % 10  #x를 10으로 나눈 나머지를 x로 저장\n",
        "n1 = x % 10 #x를 10으로 나눈 나머지\n",
        "print(\"자리수의 합:\", n1000 + n100 + n10 + n1)"
      ],
      "execution_count": null,
      "outputs": [
        {
          "output_type": "stream",
          "name": "stdout",
          "text": [
            "정수를 입력하시오:1234\n",
            "자리수의 합: 10\n"
          ]
        }
      ]
    },
    {
      "cell_type": "code",
      "metadata": {
        "colab": {
          "base_uri": "https://localhost:8080/"
        },
        "id": "wBupL64JDaOR",
        "outputId": "82ba302f-067b-4ebb-9773-7e1172a05ba4"
      },
      "source": [
        "x1 = int(input(\"x1:\"))  #x1을 변수로 받음 #4번문제 \n",
        "y1 = int(input(\"y1:\"))  #y1을 변수로 받음\n",
        "x2 = int(input(\"x2:\"))  #x2를 변수로 받음\n",
        "y2 = int(input(\"y2:\"))  #y2를 변수로 받음\n",
        "l = (((x2 - x1)**2) +((y2 - y1)**2))**0.5   #두점사이의 거리 공식\n",
        "print(\"두점 사이의 거리=:\", l )"
      ],
      "execution_count": null,
      "outputs": [
        {
          "output_type": "stream",
          "name": "stdout",
          "text": [
            "x1:0\n",
            "y1:0\n",
            "x2:100\n",
            "y2:100\n",
            "두점 사이의 거리=: 141.4213562373095\n"
          ]
        }
      ]
    },
    {
      "cell_type": "code",
      "metadata": {
        "id": "TIiODhTAF1l4"
      },
      "source": [
        "import turtle as t  #5번문제\n",
        "t.shape(\"turtle\") #모양을 거북이로 \n",
        "t.lt(45)  #왼쪽으로 45도 회전\n",
        "t.fd(141) #앞으로 141 전진\n",
        "t.setheading(0)  #각도를 0으로 맞춤\n",
        "t.up()  #펜을 듬\n",
        "t.goto(0,0)  #0,0으로 감\n",
        "t.down() #펜을 놓음\n",
        "t.fd(100)\n",
        "t.lt(90)\n",
        "t.fd(100)"
      ],
      "execution_count": null,
      "outputs": []
    },
    {
      "cell_type": "code",
      "metadata": {
        "id": "0AkslyGqG2LB"
      },
      "source": [
        "import turtle as t   #6번문제 \n",
        "t.shape(\"turtle\")\n",
        "\n",
        "x1 = 0 #x1을 0으로 둠\n",
        "y1 = 0  #y1을 0으로 둠\n",
        "x2 = 100 #x2을 100으로 둠\n",
        "y2 = 100 #y2을 100으로 둠\n",
        "l = (((x2 - x1)**2) +((y2 - y1)**2))**0.5  #두점사이의 거리공식\n",
        "t.goto(x1,y1) #x1,y1으로 감\n",
        "t.goto(x2,y2)  #x2, y2로 감\n",
        "t.write(\"점의 길이=\" + str(l))"
      ],
      "execution_count": null,
      "outputs": []
    },
    {
      "cell_type": "code",
      "metadata": {
        "colab": {
          "base_uri": "https://localhost:8080/"
        },
        "id": "GBKtF8rcJOt5",
        "outputId": "e8b13128-725d-4065-b24c-123e1aaf123c"
      },
      "source": [
        "import time  #7번문제 \n",
        "\n",
        "x =time.time()  #영국 그리니치의 1970년 1월 1일 0시 0분 0초부터의 경과 시간 (초)\n",
        "t_sec = int(x)   #그 시간을 정수로 t_sec에 저장\n",
        "t_min = t_sec // 60 #t_sec를 60으로 나눈 몫 (지금까지 지난 분)\n",
        "t_hour = t_min // 60 #t_min를 60으로 나눈 몫 (지금까지 지난 시)\n",
        "min = t_min % 60  #t_min을 60으로 나눈 나머지 (현재시간의 분)\n",
        "hour = t_hour % 24 #t_hour을 24으로 나눈 나머지 (현재시간의 시)\n",
        "\n",
        "print(\"현재 시간(영국 그리니치 시각):\", str(hour) + \"시\", str(min), \"분\")"
      ],
      "execution_count": null,
      "outputs": [
        {
          "output_type": "stream",
          "name": "stdout",
          "text": [
            "현재 시간(영국 그리니치 시각): 8시 14 분\n"
          ]
        }
      ]
    },
    {
      "cell_type": "code",
      "metadata": {
        "colab": {
          "base_uri": "https://localhost:8080/"
        },
        "id": "gAWKvG6UN4l2",
        "outputId": "ecde64cd-c627-4f87-c598-530a26394bb3"
      },
      "source": [
        "x = int(input(\"물체의 무게를 입력하시오(킬로그램):\"))  #물체의 무게를 정수로 받음  #8번문제 \n",
        "y = int(input(\"물체의 속도를 입력하시오(미처/초)\"))  #물체의 속도를 정수로 받음\n",
        "z = 1/2 * x * y**2   #에너지 구하는 공식\n",
        "print(\"물체는\", z ,\"줄의 에너지를 가지고 있다.\")"
      ],
      "execution_count": null,
      "outputs": [
        {
          "output_type": "stream",
          "name": "stdout",
          "text": [
            "물체의 무게를 입력하시오(킬로그램):10\n",
            "물체의 속도를 입력하시오(미처/초)100\n",
            "물체는 50000.0 줄의 에너지를 가지고 있다.\n"
          ]
        }
      ]
    }
  ]
}