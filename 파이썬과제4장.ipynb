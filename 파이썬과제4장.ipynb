{
  "nbformat": 4,
  "nbformat_minor": 0,
  "metadata": {
    "colab": {
      "name": "파이썬과제4장.ipynb",
      "provenance": [],
      "authorship_tag": "ABX9TyOYsXxCOWCw9OzqxZgEeIm4",
      "include_colab_link": true
    },
    "kernelspec": {
      "name": "python3",
      "display_name": "Python 3"
    },
    "language_info": {
      "name": "python"
    }
  },
  "cells": [
    {
      "cell_type": "markdown",
      "metadata": {
        "id": "view-in-github",
        "colab_type": "text"
      },
      "source": [
        "<a href=\"https://colab.research.google.com/github/2100553tjwlals/2-/blob/main/%ED%8C%8C%EC%9D%B4%EC%8D%AC%EA%B3%BC%EC%A0%9C4%EC%9E%A5.ipynb\" target=\"_parent\"><img src=\"https://colab.research.google.com/assets/colab-badge.svg\" alt=\"Open In Colab\"/></a>"
      ]
    },
    {
      "cell_type": "markdown",
      "metadata": {
        "id": "U2Adr4pofAWn"
      },
      "source": [
        "도전문제"
      ]
    },
    {
      "cell_type": "code",
      "metadata": {
        "id": "cctonElwe8wL"
      },
      "source": [
        "import turtle as t\n",
        "t.shape(\"turtle\")\n",
        "\n",
        "n = t.textinput(\"\",\"이름을 입력하시오:\")\n",
        "\n",
        "for i in range(4):\n",
        "    t.write(\"안녕하세요?\" + n + \"씨, 터틀 인사드립니다.\")\n",
        "    t.lt(90)\n",
        "    t.fd(100)"
      ],
      "execution_count": null,
      "outputs": []
    },
    {
      "cell_type": "code",
      "metadata": {
        "colab": {
          "base_uri": "https://localhost:8080/"
        },
        "id": "jMKrlxhsgJk4",
        "outputId": "b508f529-8a6c-4c63-bb94-2d5f1e30e9dd"
      },
      "source": [
        "print(\"안녕하세요?\")\n",
        "name = input(\"이름이 어떻게 되시나요?\")\n",
        "print(\"만나서 반갑습니다\" + name + \"씨\")\n",
        "print(\"이름의 길이는 다음과 같군요:\", end=\"\")  # end=\"\"는 줄바꿈을 하지않고 다음 줄을 출력한다\n",
        "print(len(name))\n",
        "age = int(input(\"나이가 어떻게 되시나요?\"))\n",
        "print(\"내년이면\" + str(age + 1) + \"이 되시는 군요\")\n",
        "hobby = input(\"취미가 무엇인가요?\")\n",
        "print(\"네 저도\"+ hobby +\"좋아합니다.\")"
      ],
      "execution_count": 1,
      "outputs": [
        {
          "output_type": "stream",
          "name": "stdout",
          "text": [
            "안녕하세요?\n",
            "이름이 어떻게 되시나요?홍길동\n",
            "만나서 반갑습니다홍길동씨\n",
            "이름의 길이는 다음과 같군요:3\n",
            "나이가 어떻게 되시나요?20\n",
            "내년이면21이 되시는 군요\n",
            "취미가 무엇인가요?영화 감삼\n",
            "네 저도영화 감삼좋아합니다.\n"
          ]
        }
      ]
    },
    {
      "cell_type": "code",
      "metadata": {
        "colab": {
          "base_uri": "https://localhost:8080/"
        },
        "id": "lqWe8JcHi8QN",
        "outputId": "9bda30e8-d4f1-4e74-f8ef-9310313ef099"
      },
      "source": [
        "year = input(\"오늘의 연도를 입력하시오:\")\n",
        "month = input(\"오늘의 월를 입력하시오:\")\n",
        "date = input(\"오늘의 일를 입력하시오:\")\n",
        "print(month+\"/\"+date+\"/\"+year)"
      ],
      "execution_count": 6,
      "outputs": [
        {
          "output_type": "stream",
          "name": "stdout",
          "text": [
            "오늘의 연도를 입력하시오:2021\n",
            "오늘의 월를 입력하시오:10\n",
            "오늘의 일를 입력하시오:24\n",
            "10/24/2021\n"
          ]
        }
      ]
    },
    {
      "cell_type": "markdown",
      "metadata": {
        "id": "44iBLiaalbNQ"
      },
      "source": [
        "연습문제"
      ]
    },
    {
      "cell_type": "code",
      "metadata": {
        "id": "pEsqppRxlcTt"
      },
      "source": [
        "'나는'+ str(12) +\"사과를 먹었다.\"     #1번문제"
      ],
      "execution_count": null,
      "outputs": []
    },
    {
      "cell_type": "code",
      "metadata": {
        "id": "7TfnGH5EkCJC"
      },
      "source": [
        "applegrape     #2번문제\n",
        "appleappleapple"
      ],
      "execution_count": null,
      "outputs": []
    },
    {
      "cell_type": "code",
      "metadata": {
        "id": "tPz2J0kdl3MP"
      },
      "source": [
        "x = input(\"문자열을 입력하시오:\")     #3번문제\n",
        "print(x[0:2]+x[-2:])"
      ],
      "execution_count": null,
      "outputs": []
    },
    {
      "cell_type": "code",
      "metadata": {
        "id": "L_Vi66MOnUMN"
      },
      "source": [
        "x = input(\"문자열을 입력하시오\")     #4번문제\n",
        "print(x+\"하는 중\")"
      ],
      "execution_count": null,
      "outputs": []
    },
    {
      "cell_type": "code",
      "metadata": {
        "colab": {
          "base_uri": "https://localhost:8080/"
        },
        "id": "S83s1dbcnyDH",
        "outputId": "cc299af7-9c4a-4a89-9883-dc099513b620"
      },
      "source": [
        "x = input(\"기호를 입력하시오:\")\n",
        "y = input(\"중간에 삽입할 문자열를 입력하시오:\")     #5번문제\n",
        "z = x[0:1] + y + x[1:]\n",
        "print(z)"
      ],
      "execution_count": 9,
      "outputs": [
        {
          "output_type": "stream",
          "name": "stdout",
          "text": [
            "기호를 입력하시오:[]\n",
            "중간에 삽입할 문자열를 입력하시오:python\n",
            "[python]\n"
          ]
        }
      ]
    },
    {
      "cell_type": "code",
      "metadata": {
        "colab": {
          "base_uri": "https://localhost:8080/"
        },
        "id": "_KPMkARnorzI",
        "outputId": "b799d239-5f74-482b-a6bd-100b7b428592"
      },
      "source": [
        "list = [1, 2, 3, 4]     #6번문제\n",
        "tlist = list[0] + list[1] + list[2] + list[3]\n",
        "print(\"리스트=\",list)\n",
        "print(\"리스트 숫자들의 합 =\", tlist)"
      ],
      "execution_count": 10,
      "outputs": [
        {
          "output_type": "stream",
          "name": "stdout",
          "text": [
            "리스트= [1, 2, 3, 4]\n",
            "리스트 숫자들의 합 = 10\n"
          ]
        }
      ]
    },
    {
      "cell_type": "code",
      "metadata": {
        "id": "eKnaMuSwpgsh"
      },
      "source": [
        "import turtle as t     #7번문제\n",
        "t.shape(\"turtle\")\n",
        "list = []\n",
        "c1 = input(\"색상 #1을 입력하시오:\")  #yellow\n",
        "list.append(c1)\n",
        "c2 = input(\"색상 #2을 입력하시오:\")  #red\n",
        "list.append(c2)\n",
        "c3 = input(\"색상 #3을 입력하시오:\")  #blue\n",
        "list.append(c3)\n",
        "t.fillcolor(list[0])\n",
        "t.begin_fill()\n",
        "t.circle(50)\n",
        "t.end_fill()\n",
        "t.up()\n",
        "t.goto(100,0)\n",
        "t.down()\n",
        "t.fillcolor(list[1])\n",
        "t.begin_fill()\n",
        "t.circle(50)\n",
        "t.end_fill()\n",
        "t.up()\n",
        "t.goto(200,0)\n",
        "t.down()\n",
        "t.fillcolor(list[2])\n",
        "t.begin_fill()\n",
        "t.circle(50)\n",
        "t.end_fill()"
      ],
      "execution_count": null,
      "outputs": []
    },
    {
      "cell_type": "code",
      "metadata": {
        "id": "kRcG4HcnsMCt"
      },
      "source": [
        "import turtle as t     #8번문제\n",
        "t.shape(\"turtle\")\n",
        "list = []\n",
        "list.append(int(input(\"x1:\")))\n",
        "list.append(int(input(\"y1:\")))\n",
        "list.append(int(input(\"x2:\")))\n",
        "list.append(int(input(\"y2:\")))\n",
        "list.append(int(input(\"x3:\")))\n",
        "list.append(int(input(\"y3:\")))\n",
        "\n",
        "t.goto(list[0],list[1])\n",
        "t.goto(list[2],list[3])\n",
        "t.goto(list[4],list[5])"
      ],
      "execution_count": null,
      "outputs": []
    }
  ]
}