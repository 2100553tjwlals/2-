{
  "nbformat": 4,
  "nbformat_minor": 0,
  "metadata": {
    "colab": {
      "name": "파이썬과제5장.ipynb",
      "provenance": [],
      "authorship_tag": "ABX9TyP7yQaPqEe/SqvjxPXfh+T1",
      "include_colab_link": true
    },
    "kernelspec": {
      "name": "python3",
      "display_name": "Python 3"
    },
    "language_info": {
      "name": "python"
    }
  },
  "cells": [
    {
      "cell_type": "markdown",
      "metadata": {
        "id": "view-in-github",
        "colab_type": "text"
      },
      "source": [
        "<a href=\"https://colab.research.google.com/github/2100553tjwlals/2-/blob/main/%ED%8C%8C%EC%9D%B4%EC%8D%AC%EA%B3%BC%EC%A0%9C5%EC%9E%A5.ipynb\" target=\"_parent\"><img src=\"https://colab.research.google.com/assets/colab-badge.svg\" alt=\"Open In Colab\"/></a>"
      ]
    },
    {
      "cell_type": "markdown",
      "metadata": {
        "id": "PiDC5dplyb5a"
      },
      "source": [
        "연습문제"
      ]
    },
    {
      "cell_type": "code",
      "metadata": {
        "id": "lDvFM00JyYFl"
      },
      "source": [
        "20살 미만  #1번문제"
      ],
      "execution_count": null,
      "outputs": []
    },
    {
      "cell_type": "code",
      "metadata": {
        "id": "D5HR_YW7yqIN"
      },
      "source": [
        "age = 20  #2번문제\n",
        "if age >= 30 and age =< 50:  #age가 30이상일때 그리고 50이하일때 \n",
        "  print(\"30이상 50이하\")      "
      ],
      "execution_count": null,
      "outputs": []
    },
    {
      "cell_type": "code",
      "metadata": {
        "colab": {
          "base_uri": "https://localhost:8080/"
        },
        "id": "cBWhaElhzZMf",
        "outputId": "0d6e1676-6928-4810-8327-72c65bbdb31c"
      },
      "source": [
        "x = int(input(\"현재 온도를 입력하시오:\")) #온도를 변수로 받는다  #3번문제\n",
        "\n",
        "if x >= 25 :   #온도가 25이상일때\n",
        "  print(\"반바지를 입으세요\")\n",
        "elif x < 25 :   #온도가 25미만일때\n",
        "  print(\"긴바지를 입으세요\")"
      ],
      "execution_count": 3,
      "outputs": [
        {
          "output_type": "stream",
          "name": "stdout",
          "text": [
            "현재 온도를 입력하시오:10\n",
            "긴바지를 입으세요\n"
          ]
        }
      ]
    },
    {
      "cell_type": "code",
      "metadata": {
        "colab": {
          "base_uri": "https://localhost:8080/"
        },
        "id": "A8lDdTPV07cf",
        "outputId": "030a0e60-5e13-474f-bb1f-b221bfef2b0e"
      },
      "source": [
        "x = int(input(\"성적을 입력하시오:\"))  #성적을 변수로 받는다  #4번문제\n",
        "\n",
        "if x >= 90:   #성적이 90점을 이상일때\n",
        "  print(\"A학점입니다.\")\n",
        "elif x >= 80:   #성적이 80점을 이상일때\n",
        "  print(\"B학점입니다.\")\n",
        "elif x >= 70:   #성적이 70점을 이상일때\n",
        "  print(\"C학점입니다.\")\n",
        "elif x >= 60:   #성적이 60점을 이상일때\n",
        "  print(\"D학점입니다.\")\n",
        "else:   #성적이 60점 미만 일때\n",
        "  print(\"F학점입니다.\")   "
      ],
      "execution_count": 4,
      "outputs": [
        {
          "output_type": "stream",
          "name": "stdout",
          "text": [
            "성적을 입력하시오:99\n",
            "A학점입니다.\n"
          ]
        }
      ]
    },
    {
      "cell_type": "code",
      "metadata": {
        "colab": {
          "base_uri": "https://localhost:8080/"
        },
        "id": "xqrTQa6u1ouW",
        "outputId": "1ab20370-a793-4784-cb56-e9442a1e2b56"
      },
      "source": [
        "import random  #5번문제\n",
        "x = random.randint(1, 100)  #변수를 1부터 100 사이의 난수로 받는다\n",
        "y = random.randint(1, 100) #변수를 1부터 100 사이의 난수로 받는다\n",
        "\n",
        "z = int(input(str(x)+ \"-\"+ str(y)+ \"=\"))   #난수x - 난수y의 값을 변수로 받는다 \n",
        "if z == x - y:    #변수 z가 난수x - 난수y의 값과 같을때\n",
        "  print(\"맞았습니다.\")\n",
        "else :       #변수 z가 난수x - 난수y의 값과 틀릴때\n",
        "  print(\"틀렸습니다\")"
      ],
      "execution_count": 7,
      "outputs": [
        {
          "output_type": "stream",
          "name": "stdout",
          "text": [
            "93-28=65\n",
            "맞았습니다.\n"
          ]
        }
      ]
    },
    {
      "cell_type": "code",
      "metadata": {
        "colab": {
          "base_uri": "https://localhost:8080/"
        },
        "id": "Hr_sRgLu3veg",
        "outputId": "2133aa2b-2473-48b2-cd6f-39cdcb949afb"
      },
      "source": [
        "x = int(input(\"정수를 입력하시오:\"))  #정수를 변수로 받는다   #6번문제\n",
        "\n",
        "if x%2 == 0 and x%3 == 0 :  #변수를 2로 나누었을때 값이 0 그리고 변수를 3으로 나누었을때 값이 0이면\n",
        "  print(\"2와 3으로 나누어 떨어집니다.\")\n",
        "elif x%2 == 0 :   #변수를 2로 나누었을때 값이 0면\n",
        "  print(\"2로 나누어 떨어집니다.\")\n",
        "elif x%3 == 0 :    #변수를 3으로 나누었을때 값이 0이면\n",
        "  print(\"3으로 나누어 떨어집니다.\")\n",
        "else :  #변수가 2와 3으로 나누어떨어지지 않으면\n",
        "  print(\"2와 3으로 나누어떨어지지 않습니다.\")"
      ],
      "execution_count": 15,
      "outputs": [
        {
          "output_type": "stream",
          "name": "stdout",
          "text": [
            "정수를 입력하시오:6\n",
            "2와 3으로 나누어 떨어집니다.\n"
          ]
        }
      ]
    },
    {
      "cell_type": "code",
      "metadata": {
        "colab": {
          "base_uri": "https://localhost:8080/"
        },
        "id": "C5NhtmA84IJ2",
        "outputId": "5dad6af9-4c50-48d4-9f86-bc3a7890345c"
      },
      "source": [
        "import random    #7번문제\n",
        "x = int(input(\"복권번호를 입력하시오(0에서 99사이):\"))   #변수를 0부터 99사이의 정수로 받는다\n",
        "y = random.randint(0, 99)   #변수를 0부터 99사이의 난수로 받는다\n",
        "print(\"당첨번호는\"+str(y)+\"입니다.\")\n",
        "\n",
        "if x//10 == y//10 and x%10 == y%10 :  #정수x를 10으로 나눈 몫이 난수y를 10으로 나눈 몫과  같고 정수x를 10으로 나눈 나머지와 난수y를 10으로 나눈 나머지와 같으면\n",
        "  print(\"상금은 100만원입니다.\")\n",
        "elif x//10 == y//10 or x%10 == y%10 :  #정수x를 10으로 나눈 몫이 난수y를 10으로 나눈 몫과  같거나 정수x를 10으로 나눈 나머지와 난수y를 10으로 나눈 나머지와 같으면\n",
        "  print(\"상금은 50만원입니다.\")\n",
        "else :  #정수x를 10으로 나눈 몫이 난수y를 10으로 나눈 몫과 다르고 정수x를 10으로 나눈 나머지와 난수y를 10으로 나눈 나머지와 다르면\n",
        "  print(\"상금은 없습니다.\")"
      ],
      "execution_count": 34,
      "outputs": [
        {
          "output_type": "stream",
          "name": "stdout",
          "text": [
            "복권번호를 입력하시오(0에서 99사이):67\n",
            "당첨번호는51입니다.\n",
            "상금은 없습니다.\n"
          ]
        }
      ]
    }
  ]
}