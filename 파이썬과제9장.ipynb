{
  "nbformat": 4,
  "nbformat_minor": 0,
  "metadata": {
    "colab": {
      "name": "기초파이썬9장.ipynb",
      "provenance": [],
      "collapsed_sections": [],
      "authorship_tag": "ABX9TyPavW9Hiq72JQIP2nWX7mZZ",
      "include_colab_link": true
    },
    "kernelspec": {
      "name": "python3",
      "display_name": "Python 3"
    },
    "language_info": {
      "name": "python"
    }
  },
  "cells": [
    {
      "cell_type": "markdown",
      "metadata": {
        "id": "view-in-github",
        "colab_type": "text"
      },
      "source": [
        "<a href=\"https://colab.research.google.com/github/tjwl0418/2-/blob/main/%ED%8C%8C%EC%9D%B4%EC%8D%AC%EA%B3%BC%EC%A0%9C9%EC%9E%A5.ipynb\" target=\"_parent\"><img src=\"https://colab.research.google.com/assets/colab-badge.svg\" alt=\"Open In Colab\"/></a>"
      ]
    },
    {
      "cell_type": "code",
      "source": [
        "도전문제"
      ],
      "metadata": {
        "id": "jPE-zsCZMkHC"
      },
      "execution_count": null,
      "outputs": []
    },
    {
      "cell_type": "code",
      "execution_count": null,
      "metadata": {
        "colab": {
          "base_uri": "https://localhost:8080/"
        },
        "id": "HDB1VxTPKbY5",
        "outputId": "006d91f5-d5ac-47d2-f407-c5afa3a23d75"
      },
      "outputs": [
        {
          "output_type": "stream",
          "name": "stdout",
          "text": [
            "4+1=\n"
          ]
        }
      ],
      "source": [
        "import random #random 모듈을 불러온다\n",
        "Q = [] #공백 리스트를 생성한다\n",
        "Q.append(\"1+1=\") #리스트에 항목을 추가한다\n",
        "Q.append(\"2+1=\")\n",
        "Q.append(\"3+1=\")\n",
        "Q.append(\"4+1=\")\n",
        "Q.append(\"5+1=\")\n",
        "Q.append(\"6+1=\")\n",
        "Q.append(\"7+1=\")\n",
        "Q.append(\"8+1=\")\n",
        "Q.append(\"9+1=\")\n",
        "Q.append(\"10+1=\")\n",
        "q = random.choice(Q) #리스트Q의 항목중 랜덤으로 골라서 변수로 받는다 \n",
        "print(q)"
      ]
    },
    {
      "cell_type": "code",
      "source": [
        "연습문제"
      ],
      "metadata": {
        "id": "YkAAdBHK56dc"
      },
      "execution_count": null,
      "outputs": []
    },
    {
      "cell_type": "code",
      "source": [
        "list = [] #공백 리스트를 생성한다   #1번 문제\n",
        "sum = 0\n",
        "\n",
        "for i in range(5): #5번 반복한다.\n",
        "  x = int(input(\"정수를 입력하시오:\")) #변수를 정수로 받느다\n",
        "  list.append(x) #리스트 항목에 변수x를 추가한다.\n",
        "for i in list:  #i에 list의 항목을 순서대로 입력한다\n",
        "  sum += i #sum의 값에 i의 값을 더한 값을 sum에 저장한다\n",
        "average = sum / len(list)   #sum / len(list)를 변수로 받는다\n",
        "print(average)"
      ],
      "metadata": {
        "colab": {
          "base_uri": "https://localhost:8080/"
        },
        "id": "yGvPdcEK58MA",
        "outputId": "f10618d6-de57-454b-875e-fd9ae38915eb"
      },
      "execution_count": null,
      "outputs": [
        {
          "output_type": "stream",
          "name": "stdout",
          "text": [
            "정수를 입력하시오:1\n",
            "정수를 입력하시오:2\n",
            "정수를 입력하시오:3\n",
            "정수를 입력하시오:4\n",
            "정수를 입력하시오:5\n",
            "3.0\n"
          ]
        }
      ]
    },
    {
      "cell_type": "code",
      "source": [
        "import random  #랜덤 모듈을 불러온다 #2번문제\n",
        "counter = [0, 0, 0, 0, 0, 0]  #항목이 5개인 리스트를 생성한다\n",
        "for i in range(1000): #1000번 반복\n",
        "  value = random.randint(0,5) # 0부터 5사이의 난수를 변수로 받는다.\n",
        "  counter[value] = counter[value] + 1 #counter리스트의 value번째의 값에 1을 더한값을 리스트의 value번째 항목으로 받는다\n",
        "print(\"주사위가 1인 경우는\",counter[0])\n",
        "print(\"주사위가 2인 경우는\",counter[1])\n",
        "print(\"주사위가 3인 경우는\",counter[2])\n",
        "print(\"주사위가 4인 경우는\",counter[3])\n",
        "print(\"주사위가 5인 경우는\",counter[4])\n",
        "print(\"주사위가 6인 경우는\",counter[5])"
      ],
      "metadata": {
        "colab": {
          "base_uri": "https://localhost:8080/"
        },
        "id": "PJ5ssJSc8vA3",
        "outputId": "de7a512f-b1a5-45c9-9656-85dd89f8458b"
      },
      "execution_count": null,
      "outputs": [
        {
          "output_type": "stream",
          "name": "stdout",
          "text": [
            "주사위가 1인 경우는 196\n",
            "주사위가 2인 경우는 157\n",
            "주사위가 3인 경우는 147\n",
            "주사위가 4인 경우는 171\n",
            "주사위가 5인 경우는 166\n",
            "주사위가 6인 경우는 163\n"
          ]
        }
      ]
    },
    {
      "cell_type": "code",
      "source": [
        "contacts = {} #공백 리스트를 생성한다. #3번째 문제\n",
        "\n",
        "while True : # 무한 반복\n",
        "  name = input(\"(입력모드)이름을 입력하시오:\") #이름을 변수로 받는다.\n",
        "  if not name: #만약 name변수가 없다면\n",
        "    break #멈춘다\n",
        "  contacts[name] = input(\"전화번호를 입력하시오:\") #전화번호를 딕셔너리의 값으로 받는다 \n",
        "while True: #무한반복\n",
        "  names = input(\"(검색모드)이름을 입력하시오:\") #이름을 변수로 받는다 \n",
        "  if not names: #만약 name변수가 없다면\n",
        "    break 멈춘다\n",
        "  print(names,\"의 전화번호는 \",contacts[names],\"입니다.\")"
      ],
      "metadata": {
        "id": "WvoGvbRc-BrS",
        "colab": {
          "base_uri": "https://localhost:8080/"
        },
        "outputId": "e0f2e163-4488-46af-9635-a1c64d27ad2d"
      },
      "execution_count": null,
      "outputs": [
        {
          "name": "stdout",
          "output_type": "stream",
          "text": [
            "(입력모드)이름을 입력하시오:홍길동\n",
            "전화번호를 입력하시오:111-2222\n",
            "(입력모드)이름을 입력하시오:김철수\n",
            "전화번호를 입력하시오:222-3333\n",
            "(입력모드)이름을 입력하시오:\n",
            "(검색모드)이름을 입력하시오:홍길동\n",
            "홍길동 의 전화번호는  111-2222 입니다.\n",
            "(검색모드)이름을 입력하시오:\n"
          ]
        }
      ]
    },
    {
      "cell_type": "code",
      "source": [
        "import turtle as t #turtle모듈을 불러오고 그것을 t로 정한다.   #4번째문제\n",
        "import random #random 모듈을 불러온다\n",
        "\n",
        "def draw_sqare(c):  # 인수가 c인 함수를 생성\n",
        "  x = random.randint(0,100) #0부터 100사이의 난수를 변수로 받는다\n",
        "  y = random.randint(0,100)  #0부터 100사이의 난수를 변수로 받는다.\n",
        "  t.up() #펜을 든다\n",
        "  t.goto(x, y) #x,y로 이동\n",
        "  t.down() #펜을 내려놓는다\n",
        "  t.begin_fill() #색으로 채우기 시작한다\n",
        "  t.color(c) #색을 c로 한다\n",
        "  for i in range(4): #4번 반복\n",
        "    t.fd(50) #앞으로50\n",
        "    t.left(90) #왼쪽으로90만큼돈다\n",
        "  t.end_fill() #색 채우기를 끝낸다\n",
        "\n",
        "for c in [\"yellow\", \"red\", \"purple\", \"blue\",]: # y,r,p,b 색을 순서대로 c에 입력한다\n",
        "  draw_sqare(c) #함수를출력한다"
      ],
      "metadata": {
        "id": "srxCVcjHSDI3"
      },
      "execution_count": null,
      "outputs": []
    },
    {
      "cell_type": "code",
      "source": [
        "import turtle as t  #turtle모듈을 불러오고 그것을 t로 정한다.   #5번째문제\n",
        "import random #random 모듈을 불러온다\n",
        "\n",
        "def draw_shape(color, n, lenght, x, y):  # 인수가 color, n, lenght, x, y 인 함수를 생성\n",
        "  t.up() #펜을 든다\n",
        "  t.goto(x, y) #x,y로 이동\n",
        "  t.down() #펜을 내려놓는다\n",
        "  t.begin_fill() #색으로 채우기 시작한다\n",
        "  t.color(color) #색을 color로 한다\n",
        "  for i in range(n): #n번 반복\n",
        "    t.fd(lenght) #앞으로lenght\n",
        "    t.left(360/n) #왼쪽으로 360/n 만큼돈다\n",
        "  t.end_fill() #색 채우기를 끝낸다\n",
        "\n",
        "for i in range(5): #5번 반복\n",
        "  x = random.randint(0,100)  #0부터 100사이의 난수를 변수로 받는다\n",
        "  y = random.randint(0,100)  #0부터 100사이의 난수를 변수로 받는다\n",
        "  c = random.choice([\"yellow\", \"red\", \"purple\", \"blue\",])  # y,r,p,b 색을 랜덤으로 골라 변수로 받는다\n",
        "  n = random.randint(3, 10)  #3부터 10사이의 난수를 변수로 받는다\n",
        "  len = random.randint(10, 50) #10부터 50사이의 난수를 변수로 받는다\n",
        "  draw_shape(c, n, len, x, y) #함수를출력한다"
      ],
      "metadata": {
        "id": "irMGt40vUmBC"
      },
      "execution_count": null,
      "outputs": []
    },
    {
      "cell_type": "code",
      "source": [
        "import turtle as t  #turtle모듈을 불러오고 그것을 t로 정한다.   #6번째문제\n",
        "import random #random 모듈을 불러온다\n",
        "s=t.Screen(); s.bgcolor(\"black\") #바탕을 검은색으로\n",
        "\n",
        "def draw_star(color, length, x, y): # 인수가 color, lenght, x, y 인 함수를 생성\n",
        "  t.up() #펜을 든다\n",
        "  t.goto(x, y) #x,y로 이동\n",
        "  t.down() #펜을 내려놓는다\n",
        "  t.begin_fill() #색으로 채우기 시작한다\n",
        "  t.color(color) #색을 color로 한다\n",
        "  for i in range(5): #n번 반복\n",
        "    t.fd(lenght) #앞으로lenght\n",
        "    t.rt(144) #오른쪽으로 144 만큼돈다\n",
        "  t.end_fill() #색 채우기를 끝낸다 \n",
        "\n",
        "for i in range(10): #10번 반복\n",
        "  x = random.randint(-100,100)  #-100부터 100사이의 난수를 변수로 받는다\n",
        "  y = random.randint(-100,100)  #-100부터 100사이의 난수를 변수로 받는다\n",
        "  c = random.choice([\"yellow\", \"red\", \"purple\", \"blue\",\"white\",\"green\"])  # y,r,p,b,w,g 색을 랜덤으로 골라 변수로 받는다\n",
        "  n = random.randint(3, 10)  #3부터 10사이의 난수를 변수로 받는다\n",
        "  len = random.randint(10, 50) #10부터 50사이의 난수를 변수로 받는다\n",
        "  draw_shape(c, len, x, y) #함수를출력한다"
      ],
      "metadata": {
        "id": "I35hCjvfYId5"
      },
      "execution_count": null,
      "outputs": []
    },
    {
      "cell_type": "code",
      "source": [
        "domain ={\"kr\" : \"대한민국\",\"sk\" : \"슬로바키아\",\"no\" : \"노르웨이\",\"us\":\"미국\",\"jp\":\"일본\",\"hu\":\"헝가리\",\"de\":\"독일\"} #딕셔너리 생성  #7번 문제\n",
        "for k, v in domain.items(): #딕셔너리를 k, v에 순서대로 입력\n",
        "  print(k,\":\",v) "
      ],
      "metadata": {
        "id": "_GsankztSJVo",
        "colab": {
          "base_uri": "https://localhost:8080/"
        },
        "outputId": "d7c368b2-b432-42a8-8ac6-725c681ce723"
      },
      "execution_count": null,
      "outputs": [
        {
          "output_type": "stream",
          "name": "stdout",
          "text": [
            "kr : 대한민국\n",
            "sk : 슬로바키아\n",
            "no : 노르웨이\n",
            "us : 미국\n",
            "jp : 일본\n",
            "hu : 헝가리\n",
            "de : 독일\n"
          ]
        }
      ]
    },
    {
      "cell_type": "code",
      "source": [
        "problem = {'파이썬':'최근에 가장 떠오르는 프로그래밍 언어','변수':'데이터를 저장하는 메모리 공간','함수':'작업을 수행하는 문장들의 집합에 이름을 불인것','리스트':'서로 관련이 없는 항목듈의 모임'}\n",
        "# 딕셔너리 생성 #8번 문제\n",
        "for ward in problem.keys(): #딕셔너리의 key를 ward에 순서대로 입력\n",
        "  print(\"다음은 어떤단어의 대한 설명일까요?\") \n",
        "  print(problem[ward]) #딕셔너리의 값을 출력\n",
        "  print(\"(1) 파이썬 (2) 변수 (3) 함수 (4) 리스트\")\n",
        "  answer = 0\n",
        "  while ward != answer: #ward와 answer이 다를 때\n",
        "    answer = input() #변수의 값을 받는다\n",
        "    if ward !=answer:  #만약 ward와 answer이 다를때 \n",
        "      print(\"틀렸습니다\")\n",
        "  print(\"정답입니다!\")"
      ],
      "metadata": {
        "colab": {
          "base_uri": "https://localhost:8080/"
        },
        "id": "V0j1nDOmAVqZ",
        "outputId": "15ac1f33-e160-43d8-a514-70cb38d0d12c"
      },
      "execution_count": null,
      "outputs": [
        {
          "output_type": "stream",
          "name": "stdout",
          "text": [
            "다음은 어떤단어의 대한 설명일까요?\n",
            "최근에 가장 떠오르는 프로그래밍 언어\n",
            "(1) 파이썬 (2) 변수 (3) 함수 (4) 리스트\n",
            "변수\n",
            "틀렸습니다\n",
            "파이썬\n",
            "정답입니다!\n",
            "다음은 어떤단어의 대한 설명일까요?\n",
            "데이터를 저장하는 메모리 공간\n",
            "(1) 파이썬 (2) 변수 (3) 함수 (4) 리스트\n",
            "함수\n",
            "틀렸습니다\n",
            "리스트\n",
            "틀렸습니다\n",
            "변수\n",
            "정답입니다!\n",
            "다음은 어떤단어의 대한 설명일까요?\n",
            "작업을 수행하는 문장들의 집합에 이름을 불인것\n",
            "(1) 파이썬 (2) 변수 (3) 함수 (4) 리스트\n",
            "함수\n",
            "정답입니다!\n",
            "다음은 어떤단어의 대한 설명일까요?\n",
            "서로 관련이 없는 항목듈의 모임\n",
            "(1) 파이썬 (2) 변수 (3) 함수 (4) 리스트\n",
            "리스트\n",
            "정답입니다!\n"
          ]
        }
      ]
    }
  ]
}